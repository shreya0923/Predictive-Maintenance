{
  "cells": [
    {
      "cell_type": "markdown",
      "metadata": {
        "id": "view-in-github",
        "colab_type": "text"
      },
      "source": [
        "<a href=\"https://colab.research.google.com/github/shreya0923/Predictive-Maintenance/blob/main/IOT_Project.ipynb\" target=\"_parent\"><img src=\"https://colab.research.google.com/assets/colab-badge.svg\" alt=\"Open In Colab\"/></a>"
      ]
    },
    {
      "cell_type": "markdown",
      "source": [
        "# Data"
      ],
      "metadata": {
        "id": "YWhSKzHVYFEu"
      }
    },
    {
      "cell_type": "markdown",
      "source": [
        "# New Section"
      ],
      "metadata": {
        "id": "O3SABtfbZVQH"
      }
    },
    {
      "cell_type": "code",
      "execution_count": null,
      "metadata": {
        "id": "w3IU2hRTKI32"
      },
      "outputs": [],
      "source": [
        "import numpy as np\n",
        "import pandas as pd\n",
        "import seaborn as sns\n",
        "from sklearn.neighbors import KNeighborsClassifier\n",
        "import matplotlib.pyplot as plt\n",
        "import warnings\n",
        "warnings.filterwarnings(\"ignore\")\n",
        "\n",
        "sns.set_style('darkgrid')\n",
        "%matplotlib inline"
      ]
    },
    {
      "cell_type": "code",
      "execution_count": null,
      "metadata": {
        "colab": {
          "base_uri": "https://localhost:8080/",
          "height": 443
        },
        "id": "FJuUUF9IRASR",
        "outputId": "c9adb878-355c-401f-816f-4cf196cb32d7"
      },
      "outputs": [
        {
          "output_type": "execute_result",
          "data": {
            "text/plain": [
              "     Accelerometer  Temperature  freq_x     a_x  freq_y     a_y  freq_z  \\\n",
              "0            62.99       123.27   99.36  0.0054   62.92  0.0022   52.98   \n",
              "1            61.40       125.86   86.42  0.0059   67.33  0.0028   50.14   \n",
              "2            63.16       139.13   90.46  0.0045   68.20  0.0020   46.10   \n",
              "3            50.00       131.37   90.84  0.0044   75.70  0.0029   51.93   \n",
              "4            62.78       139.62   92.04  0.0058   74.15  0.0021   56.81   \n",
              "..             ...          ...     ...     ...     ...     ...     ...   \n",
              "310          15.00       133.51   87.43  0.0044   78.93  0.0028   57.64   \n",
              "311          62.43       125.06   85.10  0.0043   74.99  0.0012   50.91   \n",
              "312          64.75       126.29   92.86  0.0059   68.72  0.0020   54.27   \n",
              "313          61.95       178.00   98.75  0.0053   69.10  0.0023   55.98   \n",
              "314          64.30       139.55   95.40  0.0058   62.00  0.0016   47.60   \n",
              "\n",
              "        a_z        vib_x        vib_y        vib_z  AnomalyDetect  AnomalyType  \n",
              "0    0.0069  18400.00000  28600.00000  7678.260870              0            0  \n",
              "1    0.0066  14647.45763  24046.42857  7596.969697              0            0  \n",
              "2    0.0070  20102.22222  34100.00000  6585.714286              0            0  \n",
              "3    0.0060  20645.45455  26103.44828  8655.000000              1            1  \n",
              "4    0.0066  15868.96552  35309.52381  8607.575758              0            0  \n",
              "..      ...          ...          ...          ...            ...          ...  \n",
              "310  0.0066  19870.45455  28189.28571  8733.333333              1            1  \n",
              "311  0.0071  19790.69767  62491.66667  7170.422535              0            0  \n",
              "312  0.0080  15738.98305  34360.00000  6783.750000              0            0  \n",
              "313  0.0073  18632.07547  30043.47826  7668.493151              1            2  \n",
              "314  0.0068  16448.27586  38750.00000  7000.000000              0            0  \n",
              "\n",
              "[315 rows x 13 columns]"
            ],
            "text/html": [
              "\n",
              "  <div id=\"df-dd18fdd9-6f63-49fe-a9af-f50a00f47f24\" class=\"colab-df-container\">\n",
              "    <div>\n",
              "<style scoped>\n",
              "    .dataframe tbody tr th:only-of-type {\n",
              "        vertical-align: middle;\n",
              "    }\n",
              "\n",
              "    .dataframe tbody tr th {\n",
              "        vertical-align: top;\n",
              "    }\n",
              "\n",
              "    .dataframe thead th {\n",
              "        text-align: right;\n",
              "    }\n",
              "</style>\n",
              "<table border=\"1\" class=\"dataframe\">\n",
              "  <thead>\n",
              "    <tr style=\"text-align: right;\">\n",
              "      <th></th>\n",
              "      <th>Accelerometer</th>\n",
              "      <th>Temperature</th>\n",
              "      <th>freq_x</th>\n",
              "      <th>a_x</th>\n",
              "      <th>freq_y</th>\n",
              "      <th>a_y</th>\n",
              "      <th>freq_z</th>\n",
              "      <th>a_z</th>\n",
              "      <th>vib_x</th>\n",
              "      <th>vib_y</th>\n",
              "      <th>vib_z</th>\n",
              "      <th>AnomalyDetect</th>\n",
              "      <th>AnomalyType</th>\n",
              "    </tr>\n",
              "  </thead>\n",
              "  <tbody>\n",
              "    <tr>\n",
              "      <th>0</th>\n",
              "      <td>62.99</td>\n",
              "      <td>123.27</td>\n",
              "      <td>99.36</td>\n",
              "      <td>0.0054</td>\n",
              "      <td>62.92</td>\n",
              "      <td>0.0022</td>\n",
              "      <td>52.98</td>\n",
              "      <td>0.0069</td>\n",
              "      <td>18400.00000</td>\n",
              "      <td>28600.00000</td>\n",
              "      <td>7678.260870</td>\n",
              "      <td>0</td>\n",
              "      <td>0</td>\n",
              "    </tr>\n",
              "    <tr>\n",
              "      <th>1</th>\n",
              "      <td>61.40</td>\n",
              "      <td>125.86</td>\n",
              "      <td>86.42</td>\n",
              "      <td>0.0059</td>\n",
              "      <td>67.33</td>\n",
              "      <td>0.0028</td>\n",
              "      <td>50.14</td>\n",
              "      <td>0.0066</td>\n",
              "      <td>14647.45763</td>\n",
              "      <td>24046.42857</td>\n",
              "      <td>7596.969697</td>\n",
              "      <td>0</td>\n",
              "      <td>0</td>\n",
              "    </tr>\n",
              "    <tr>\n",
              "      <th>2</th>\n",
              "      <td>63.16</td>\n",
              "      <td>139.13</td>\n",
              "      <td>90.46</td>\n",
              "      <td>0.0045</td>\n",
              "      <td>68.20</td>\n",
              "      <td>0.0020</td>\n",
              "      <td>46.10</td>\n",
              "      <td>0.0070</td>\n",
              "      <td>20102.22222</td>\n",
              "      <td>34100.00000</td>\n",
              "      <td>6585.714286</td>\n",
              "      <td>0</td>\n",
              "      <td>0</td>\n",
              "    </tr>\n",
              "    <tr>\n",
              "      <th>3</th>\n",
              "      <td>50.00</td>\n",
              "      <td>131.37</td>\n",
              "      <td>90.84</td>\n",
              "      <td>0.0044</td>\n",
              "      <td>75.70</td>\n",
              "      <td>0.0029</td>\n",
              "      <td>51.93</td>\n",
              "      <td>0.0060</td>\n",
              "      <td>20645.45455</td>\n",
              "      <td>26103.44828</td>\n",
              "      <td>8655.000000</td>\n",
              "      <td>1</td>\n",
              "      <td>1</td>\n",
              "    </tr>\n",
              "    <tr>\n",
              "      <th>4</th>\n",
              "      <td>62.78</td>\n",
              "      <td>139.62</td>\n",
              "      <td>92.04</td>\n",
              "      <td>0.0058</td>\n",
              "      <td>74.15</td>\n",
              "      <td>0.0021</td>\n",
              "      <td>56.81</td>\n",
              "      <td>0.0066</td>\n",
              "      <td>15868.96552</td>\n",
              "      <td>35309.52381</td>\n",
              "      <td>8607.575758</td>\n",
              "      <td>0</td>\n",
              "      <td>0</td>\n",
              "    </tr>\n",
              "    <tr>\n",
              "      <th>...</th>\n",
              "      <td>...</td>\n",
              "      <td>...</td>\n",
              "      <td>...</td>\n",
              "      <td>...</td>\n",
              "      <td>...</td>\n",
              "      <td>...</td>\n",
              "      <td>...</td>\n",
              "      <td>...</td>\n",
              "      <td>...</td>\n",
              "      <td>...</td>\n",
              "      <td>...</td>\n",
              "      <td>...</td>\n",
              "      <td>...</td>\n",
              "    </tr>\n",
              "    <tr>\n",
              "      <th>310</th>\n",
              "      <td>15.00</td>\n",
              "      <td>133.51</td>\n",
              "      <td>87.43</td>\n",
              "      <td>0.0044</td>\n",
              "      <td>78.93</td>\n",
              "      <td>0.0028</td>\n",
              "      <td>57.64</td>\n",
              "      <td>0.0066</td>\n",
              "      <td>19870.45455</td>\n",
              "      <td>28189.28571</td>\n",
              "      <td>8733.333333</td>\n",
              "      <td>1</td>\n",
              "      <td>1</td>\n",
              "    </tr>\n",
              "    <tr>\n",
              "      <th>311</th>\n",
              "      <td>62.43</td>\n",
              "      <td>125.06</td>\n",
              "      <td>85.10</td>\n",
              "      <td>0.0043</td>\n",
              "      <td>74.99</td>\n",
              "      <td>0.0012</td>\n",
              "      <td>50.91</td>\n",
              "      <td>0.0071</td>\n",
              "      <td>19790.69767</td>\n",
              "      <td>62491.66667</td>\n",
              "      <td>7170.422535</td>\n",
              "      <td>0</td>\n",
              "      <td>0</td>\n",
              "    </tr>\n",
              "    <tr>\n",
              "      <th>312</th>\n",
              "      <td>64.75</td>\n",
              "      <td>126.29</td>\n",
              "      <td>92.86</td>\n",
              "      <td>0.0059</td>\n",
              "      <td>68.72</td>\n",
              "      <td>0.0020</td>\n",
              "      <td>54.27</td>\n",
              "      <td>0.0080</td>\n",
              "      <td>15738.98305</td>\n",
              "      <td>34360.00000</td>\n",
              "      <td>6783.750000</td>\n",
              "      <td>0</td>\n",
              "      <td>0</td>\n",
              "    </tr>\n",
              "    <tr>\n",
              "      <th>313</th>\n",
              "      <td>61.95</td>\n",
              "      <td>178.00</td>\n",
              "      <td>98.75</td>\n",
              "      <td>0.0053</td>\n",
              "      <td>69.10</td>\n",
              "      <td>0.0023</td>\n",
              "      <td>55.98</td>\n",
              "      <td>0.0073</td>\n",
              "      <td>18632.07547</td>\n",
              "      <td>30043.47826</td>\n",
              "      <td>7668.493151</td>\n",
              "      <td>1</td>\n",
              "      <td>2</td>\n",
              "    </tr>\n",
              "    <tr>\n",
              "      <th>314</th>\n",
              "      <td>64.30</td>\n",
              "      <td>139.55</td>\n",
              "      <td>95.40</td>\n",
              "      <td>0.0058</td>\n",
              "      <td>62.00</td>\n",
              "      <td>0.0016</td>\n",
              "      <td>47.60</td>\n",
              "      <td>0.0068</td>\n",
              "      <td>16448.27586</td>\n",
              "      <td>38750.00000</td>\n",
              "      <td>7000.000000</td>\n",
              "      <td>0</td>\n",
              "      <td>0</td>\n",
              "    </tr>\n",
              "  </tbody>\n",
              "</table>\n",
              "<p>315 rows × 13 columns</p>\n",
              "</div>\n",
              "    <div class=\"colab-df-buttons\">\n",
              "\n",
              "  <div class=\"colab-df-container\">\n",
              "    <button class=\"colab-df-convert\" onclick=\"convertToInteractive('df-dd18fdd9-6f63-49fe-a9af-f50a00f47f24')\"\n",
              "            title=\"Convert this dataframe to an interactive table.\"\n",
              "            style=\"display:none;\">\n",
              "\n",
              "  <svg xmlns=\"http://www.w3.org/2000/svg\" height=\"24px\" viewBox=\"0 -960 960 960\">\n",
              "    <path d=\"M120-120v-720h720v720H120Zm60-500h600v-160H180v160Zm220 220h160v-160H400v160Zm0 220h160v-160H400v160ZM180-400h160v-160H180v160Zm440 0h160v-160H620v160ZM180-180h160v-160H180v160Zm440 0h160v-160H620v160Z\"/>\n",
              "  </svg>\n",
              "    </button>\n",
              "\n",
              "  <style>\n",
              "    .colab-df-container {\n",
              "      display:flex;\n",
              "      gap: 12px;\n",
              "    }\n",
              "\n",
              "    .colab-df-convert {\n",
              "      background-color: #E8F0FE;\n",
              "      border: none;\n",
              "      border-radius: 50%;\n",
              "      cursor: pointer;\n",
              "      display: none;\n",
              "      fill: #1967D2;\n",
              "      height: 32px;\n",
              "      padding: 0 0 0 0;\n",
              "      width: 32px;\n",
              "    }\n",
              "\n",
              "    .colab-df-convert:hover {\n",
              "      background-color: #E2EBFA;\n",
              "      box-shadow: 0px 1px 2px rgba(60, 64, 67, 0.3), 0px 1px 3px 1px rgba(60, 64, 67, 0.15);\n",
              "      fill: #174EA6;\n",
              "    }\n",
              "\n",
              "    .colab-df-buttons div {\n",
              "      margin-bottom: 4px;\n",
              "    }\n",
              "\n",
              "    [theme=dark] .colab-df-convert {\n",
              "      background-color: #3B4455;\n",
              "      fill: #D2E3FC;\n",
              "    }\n",
              "\n",
              "    [theme=dark] .colab-df-convert:hover {\n",
              "      background-color: #434B5C;\n",
              "      box-shadow: 0px 1px 3px 1px rgba(0, 0, 0, 0.15);\n",
              "      filter: drop-shadow(0px 1px 2px rgba(0, 0, 0, 0.3));\n",
              "      fill: #FFFFFF;\n",
              "    }\n",
              "  </style>\n",
              "\n",
              "    <script>\n",
              "      const buttonEl =\n",
              "        document.querySelector('#df-dd18fdd9-6f63-49fe-a9af-f50a00f47f24 button.colab-df-convert');\n",
              "      buttonEl.style.display =\n",
              "        google.colab.kernel.accessAllowed ? 'block' : 'none';\n",
              "\n",
              "      async function convertToInteractive(key) {\n",
              "        const element = document.querySelector('#df-dd18fdd9-6f63-49fe-a9af-f50a00f47f24');\n",
              "        const dataTable =\n",
              "          await google.colab.kernel.invokeFunction('convertToInteractive',\n",
              "                                                    [key], {});\n",
              "        if (!dataTable) return;\n",
              "\n",
              "        const docLinkHtml = 'Like what you see? Visit the ' +\n",
              "          '<a target=\"_blank\" href=https://colab.research.google.com/notebooks/data_table.ipynb>data table notebook</a>'\n",
              "          + ' to learn more about interactive tables.';\n",
              "        element.innerHTML = '';\n",
              "        dataTable['output_type'] = 'display_data';\n",
              "        await google.colab.output.renderOutput(dataTable, element);\n",
              "        const docLink = document.createElement('div');\n",
              "        docLink.innerHTML = docLinkHtml;\n",
              "        element.appendChild(docLink);\n",
              "      }\n",
              "    </script>\n",
              "  </div>\n",
              "\n",
              "\n",
              "<div id=\"df-176570ab-dfd7-4e9d-bfce-8d4d621aed3f\">\n",
              "  <button class=\"colab-df-quickchart\" onclick=\"quickchart('df-176570ab-dfd7-4e9d-bfce-8d4d621aed3f')\"\n",
              "            title=\"Suggest charts\"\n",
              "            style=\"display:none;\">\n",
              "\n",
              "<svg xmlns=\"http://www.w3.org/2000/svg\" height=\"24px\"viewBox=\"0 0 24 24\"\n",
              "     width=\"24px\">\n",
              "    <g>\n",
              "        <path d=\"M19 3H5c-1.1 0-2 .9-2 2v14c0 1.1.9 2 2 2h14c1.1 0 2-.9 2-2V5c0-1.1-.9-2-2-2zM9 17H7v-7h2v7zm4 0h-2V7h2v10zm4 0h-2v-4h2v4z\"/>\n",
              "    </g>\n",
              "</svg>\n",
              "  </button>\n",
              "\n",
              "<style>\n",
              "  .colab-df-quickchart {\n",
              "      --bg-color: #E8F0FE;\n",
              "      --fill-color: #1967D2;\n",
              "      --hover-bg-color: #E2EBFA;\n",
              "      --hover-fill-color: #174EA6;\n",
              "      --disabled-fill-color: #AAA;\n",
              "      --disabled-bg-color: #DDD;\n",
              "  }\n",
              "\n",
              "  [theme=dark] .colab-df-quickchart {\n",
              "      --bg-color: #3B4455;\n",
              "      --fill-color: #D2E3FC;\n",
              "      --hover-bg-color: #434B5C;\n",
              "      --hover-fill-color: #FFFFFF;\n",
              "      --disabled-bg-color: #3B4455;\n",
              "      --disabled-fill-color: #666;\n",
              "  }\n",
              "\n",
              "  .colab-df-quickchart {\n",
              "    background-color: var(--bg-color);\n",
              "    border: none;\n",
              "    border-radius: 50%;\n",
              "    cursor: pointer;\n",
              "    display: none;\n",
              "    fill: var(--fill-color);\n",
              "    height: 32px;\n",
              "    padding: 0;\n",
              "    width: 32px;\n",
              "  }\n",
              "\n",
              "  .colab-df-quickchart:hover {\n",
              "    background-color: var(--hover-bg-color);\n",
              "    box-shadow: 0 1px 2px rgba(60, 64, 67, 0.3), 0 1px 3px 1px rgba(60, 64, 67, 0.15);\n",
              "    fill: var(--button-hover-fill-color);\n",
              "  }\n",
              "\n",
              "  .colab-df-quickchart-complete:disabled,\n",
              "  .colab-df-quickchart-complete:disabled:hover {\n",
              "    background-color: var(--disabled-bg-color);\n",
              "    fill: var(--disabled-fill-color);\n",
              "    box-shadow: none;\n",
              "  }\n",
              "\n",
              "  .colab-df-spinner {\n",
              "    border: 2px solid var(--fill-color);\n",
              "    border-color: transparent;\n",
              "    border-bottom-color: var(--fill-color);\n",
              "    animation:\n",
              "      spin 1s steps(1) infinite;\n",
              "  }\n",
              "\n",
              "  @keyframes spin {\n",
              "    0% {\n",
              "      border-color: transparent;\n",
              "      border-bottom-color: var(--fill-color);\n",
              "      border-left-color: var(--fill-color);\n",
              "    }\n",
              "    20% {\n",
              "      border-color: transparent;\n",
              "      border-left-color: var(--fill-color);\n",
              "      border-top-color: var(--fill-color);\n",
              "    }\n",
              "    30% {\n",
              "      border-color: transparent;\n",
              "      border-left-color: var(--fill-color);\n",
              "      border-top-color: var(--fill-color);\n",
              "      border-right-color: var(--fill-color);\n",
              "    }\n",
              "    40% {\n",
              "      border-color: transparent;\n",
              "      border-right-color: var(--fill-color);\n",
              "      border-top-color: var(--fill-color);\n",
              "    }\n",
              "    60% {\n",
              "      border-color: transparent;\n",
              "      border-right-color: var(--fill-color);\n",
              "    }\n",
              "    80% {\n",
              "      border-color: transparent;\n",
              "      border-right-color: var(--fill-color);\n",
              "      border-bottom-color: var(--fill-color);\n",
              "    }\n",
              "    90% {\n",
              "      border-color: transparent;\n",
              "      border-bottom-color: var(--fill-color);\n",
              "    }\n",
              "  }\n",
              "</style>\n",
              "\n",
              "  <script>\n",
              "    async function quickchart(key) {\n",
              "      const quickchartButtonEl =\n",
              "        document.querySelector('#' + key + ' button');\n",
              "      quickchartButtonEl.disabled = true;  // To prevent multiple clicks.\n",
              "      quickchartButtonEl.classList.add('colab-df-spinner');\n",
              "      try {\n",
              "        const charts = await google.colab.kernel.invokeFunction(\n",
              "            'suggestCharts', [key], {});\n",
              "      } catch (error) {\n",
              "        console.error('Error during call to suggestCharts:', error);\n",
              "      }\n",
              "      quickchartButtonEl.classList.remove('colab-df-spinner');\n",
              "      quickchartButtonEl.classList.add('colab-df-quickchart-complete');\n",
              "    }\n",
              "    (() => {\n",
              "      let quickchartButtonEl =\n",
              "        document.querySelector('#df-176570ab-dfd7-4e9d-bfce-8d4d621aed3f button');\n",
              "      quickchartButtonEl.style.display =\n",
              "        google.colab.kernel.accessAllowed ? 'block' : 'none';\n",
              "    })();\n",
              "  </script>\n",
              "</div>\n",
              "    </div>\n",
              "  </div>\n"
            ],
            "application/vnd.google.colaboratory.intrinsic+json": {
              "type": "dataframe",
              "variable_name": "data",
              "summary": "{\n  \"name\": \"data\",\n  \"rows\": 315,\n  \"fields\": [\n    {\n      \"column\": \"Accelerometer\",\n      \"properties\": {\n        \"dtype\": \"number\",\n        \"std\": 6.136601957687934,\n        \"min\": 11.0,\n        \"max\": 65.0,\n        \"num_unique_values\": 221,\n        \"samples\": [\n          60.43,\n          63.11,\n          64.17\n        ],\n        \"semantic_type\": \"\",\n        \"description\": \"\"\n      }\n    },\n    {\n      \"column\": \"Temperature\",\n      \"properties\": {\n        \"dtype\": \"number\",\n        \"std\": 9.017906752901355,\n        \"min\": 120.15,\n        \"max\": 201.0,\n        \"num_unique_values\": 275,\n        \"samples\": [\n          130.15,\n          136.75,\n          124.14\n        ],\n        \"semantic_type\": \"\",\n        \"description\": \"\"\n      }\n    },\n    {\n      \"column\": \"freq_x\",\n      \"properties\": {\n        \"dtype\": \"number\",\n        \"std\": 8.38781035887913,\n        \"min\": 80.2,\n        \"max\": 183.0,\n        \"num_unique_values\": 279,\n        \"samples\": [\n          98.94,\n          88.28,\n          98.92\n        ],\n        \"semantic_type\": \"\",\n        \"description\": \"\"\n      }\n    },\n    {\n      \"column\": \"a_x\",\n      \"properties\": {\n        \"dtype\": \"number\",\n        \"std\": 0.0007108668762160342,\n        \"min\": 0.0016,\n        \"max\": 0.006,\n        \"num_unique_values\": 27,\n        \"samples\": [\n          0.0057,\n          0.006,\n          0.0055\n        ],\n        \"semantic_type\": \"\",\n        \"description\": \"\"\n      }\n    },\n    {\n      \"column\": \"freq_y\",\n      \"properties\": {\n        \"dtype\": \"number\",\n        \"std\": 9.202330891618892,\n        \"min\": 60.02,\n        \"max\": 180.0,\n        \"num_unique_values\": 281,\n        \"samples\": [\n          77.61,\n          78.54,\n          69.7\n        ],\n        \"semantic_type\": \"\",\n        \"description\": \"\"\n      }\n    },\n    {\n      \"column\": \"a_y\",\n      \"properties\": {\n        \"dtype\": \"number\",\n        \"std\": 0.0006078185027804873,\n        \"min\": 0.0002,\n        \"max\": 0.003,\n        \"num_unique_values\": 24,\n        \"samples\": [\n          0.0012,\n          0.0013,\n          0.0022\n        ],\n        \"semantic_type\": \"\",\n        \"description\": \"\"\n      }\n    },\n    {\n      \"column\": \"freq_z\",\n      \"properties\": {\n        \"dtype\": \"number\",\n        \"std\": 8.493498584114919,\n        \"min\": 45.05,\n        \"max\": 164.0,\n        \"num_unique_values\": 274,\n        \"samples\": [\n          56.56,\n          45.22,\n          53.87\n        ],\n        \"semantic_type\": \"\",\n        \"description\": \"\"\n      }\n    },\n    {\n      \"column\": \"a_z\",\n      \"properties\": {\n        \"dtype\": \"number\",\n        \"std\": 0.0008656607400324246,\n        \"min\": 0.0004,\n        \"max\": 0.008,\n        \"num_unique_values\": 28,\n        \"samples\": [\n          0.0073,\n          0.0026,\n          0.0077\n        ],\n        \"semantic_type\": \"\",\n        \"description\": \"\"\n      }\n    },\n    {\n      \"column\": \"vib_x\",\n      \"properties\": {\n        \"dtype\": \"number\",\n        \"std\": 4491.338074255878,\n        \"min\": 13827.58621,\n        \"max\": 55000.0,\n        \"num_unique_values\": 299,\n        \"samples\": [\n          18143.47826,\n          17640.0,\n          22700.0\n        ],\n        \"semantic_type\": \"\",\n        \"description\": \"\"\n      }\n    },\n    {\n      \"column\": \"vib_y\",\n      \"properties\": {\n        \"dtype\": \"number\",\n        \"std\": 31436.388443618675,\n        \"min\": 15918.75,\n        \"max\": 410000.0,\n        \"num_unique_values\": 299,\n        \"samples\": [\n          30878.26087,\n          47000.0,\n          24556.0\n        ],\n        \"semantic_type\": \"\",\n        \"description\": \"\"\n      }\n    },\n    {\n      \"column\": \"vib_z\",\n      \"properties\": {\n        \"dtype\": \"number\",\n        \"std\": 1610.9903989364527,\n        \"min\": 5710.0,\n        \"max\": 21354.16667,\n        \"num_unique_values\": 297,\n        \"samples\": [\n          7804.054054,\n          9237.5,\n          7868.656716\n        ],\n        \"semantic_type\": \"\",\n        \"description\": \"\"\n      }\n    },\n    {\n      \"column\": \"AnomalyDetect\",\n      \"properties\": {\n        \"dtype\": \"number\",\n        \"std\": 0,\n        \"min\": 0,\n        \"max\": 1,\n        \"num_unique_values\": 2,\n        \"samples\": [\n          1,\n          0\n        ],\n        \"semantic_type\": \"\",\n        \"description\": \"\"\n      }\n    },\n    {\n      \"column\": \"AnomalyType\",\n      \"properties\": {\n        \"dtype\": \"number\",\n        \"std\": 1,\n        \"min\": 0,\n        \"max\": 5,\n        \"num_unique_values\": 6,\n        \"samples\": [\n          0,\n          1\n        ],\n        \"semantic_type\": \"\",\n        \"description\": \"\"\n      }\n    }\n  ]\n}"
            }
          },
          "metadata": {},
          "execution_count": 3
        }
      ],
      "source": [
        "data = pd.read_csv('PredictiveMaintenence.csv')\n",
        "data"
      ]
    },
    {
      "cell_type": "code",
      "execution_count": null,
      "metadata": {
        "colab": {
          "base_uri": "https://localhost:8080/"
        },
        "id": "XBQ_qPfeRDtS",
        "outputId": "1b923de8-4f42-4dcf-dec5-8e710d97a322"
      },
      "outputs": [
        {
          "output_type": "stream",
          "name": "stdout",
          "text": [
            "<class 'pandas.core.frame.DataFrame'>\n",
            "RangeIndex: 315 entries, 0 to 314\n",
            "Data columns (total 13 columns):\n",
            " #   Column         Non-Null Count  Dtype  \n",
            "---  ------         --------------  -----  \n",
            " 0   Accelerometer  315 non-null    float64\n",
            " 1   Temperature    315 non-null    float64\n",
            " 2   freq_x         315 non-null    float64\n",
            " 3   a_x            315 non-null    float64\n",
            " 4   freq_y         315 non-null    float64\n",
            " 5   a_y            315 non-null    float64\n",
            " 6   freq_z         315 non-null    float64\n",
            " 7   a_z            315 non-null    float64\n",
            " 8   vib_x          315 non-null    float64\n",
            " 9   vib_y          315 non-null    float64\n",
            " 10  vib_z          315 non-null    float64\n",
            " 11  AnomalyDetect  315 non-null    int64  \n",
            " 12  AnomalyType    315 non-null    int64  \n",
            "dtypes: float64(11), int64(2)\n",
            "memory usage: 32.1 KB\n"
          ]
        }
      ],
      "source": [
        "data.info()"
      ]
    },
    {
      "cell_type": "code",
      "execution_count": null,
      "metadata": {
        "colab": {
          "base_uri": "https://localhost:8080/",
          "height": 320
        },
        "id": "hCa-2cIPT0ai",
        "outputId": "3d01f6ec-d7ac-41af-9a71-6b8bc39d9ef7"
      },
      "outputs": [
        {
          "output_type": "execute_result",
          "data": {
            "text/plain": [
              "       Accelerometer  Temperature      freq_x         a_x      freq_y  \\\n",
              "count     315.000000   315.000000  315.000000  315.000000  315.000000   \n",
              "mean       61.529587   130.865841   90.315206    0.005017   71.111175   \n",
              "std         6.136602     9.017907    8.387810    0.000711    9.202331   \n",
              "min        11.000000   120.150000   80.200000    0.001600   60.020000   \n",
              "25%        60.995000   124.605000   84.485000    0.004500   65.730000   \n",
              "50%        62.340000   130.140000   89.820000    0.005100   70.670000   \n",
              "75%        63.750000   135.015000   94.535000    0.005600   76.065000   \n",
              "max        65.000000   201.000000  183.000000    0.006000  180.000000   \n",
              "\n",
              "              a_y      freq_z         a_z         vib_x          vib_y  \\\n",
              "count  315.000000  315.000000  315.000000    315.000000     315.000000   \n",
              "mean     0.001953   53.812381    0.006921  18525.211420   42631.541003   \n",
              "std      0.000608    8.493499    0.000866   4491.338074   31436.388444   \n",
              "min      0.000200   45.050000    0.000400  13827.586210   15918.750000   \n",
              "25%      0.001400   49.535000    0.006600  16080.384615   28213.873625   \n",
              "50%      0.001900   53.140000    0.007000  17822.916670   37068.421050   \n",
              "75%      0.002500   56.570000    0.007450  20096.763285   49643.750000   \n",
              "max      0.003000  164.000000    0.008000  55000.000000  410000.000000   \n",
              "\n",
              "              vib_z  AnomalyDetect  AnomalyType  \n",
              "count    315.000000     315.000000   315.000000  \n",
              "mean    7809.117695       0.161905     0.434921  \n",
              "std     1610.990399       0.368950     1.127841  \n",
              "min     5710.000000       0.000000     0.000000  \n",
              "25%     6949.917688       0.000000     0.000000  \n",
              "50%     7588.709677       0.000000     0.000000  \n",
              "75%     8287.178309       0.000000     0.000000  \n",
              "max    21354.166670       1.000000     5.000000  "
            ],
            "text/html": [
              "\n",
              "  <div id=\"df-7af5b3ae-da34-416e-9fed-49446f2b65ec\" class=\"colab-df-container\">\n",
              "    <div>\n",
              "<style scoped>\n",
              "    .dataframe tbody tr th:only-of-type {\n",
              "        vertical-align: middle;\n",
              "    }\n",
              "\n",
              "    .dataframe tbody tr th {\n",
              "        vertical-align: top;\n",
              "    }\n",
              "\n",
              "    .dataframe thead th {\n",
              "        text-align: right;\n",
              "    }\n",
              "</style>\n",
              "<table border=\"1\" class=\"dataframe\">\n",
              "  <thead>\n",
              "    <tr style=\"text-align: right;\">\n",
              "      <th></th>\n",
              "      <th>Accelerometer</th>\n",
              "      <th>Temperature</th>\n",
              "      <th>freq_x</th>\n",
              "      <th>a_x</th>\n",
              "      <th>freq_y</th>\n",
              "      <th>a_y</th>\n",
              "      <th>freq_z</th>\n",
              "      <th>a_z</th>\n",
              "      <th>vib_x</th>\n",
              "      <th>vib_y</th>\n",
              "      <th>vib_z</th>\n",
              "      <th>AnomalyDetect</th>\n",
              "      <th>AnomalyType</th>\n",
              "    </tr>\n",
              "  </thead>\n",
              "  <tbody>\n",
              "    <tr>\n",
              "      <th>count</th>\n",
              "      <td>315.000000</td>\n",
              "      <td>315.000000</td>\n",
              "      <td>315.000000</td>\n",
              "      <td>315.000000</td>\n",
              "      <td>315.000000</td>\n",
              "      <td>315.000000</td>\n",
              "      <td>315.000000</td>\n",
              "      <td>315.000000</td>\n",
              "      <td>315.000000</td>\n",
              "      <td>315.000000</td>\n",
              "      <td>315.000000</td>\n",
              "      <td>315.000000</td>\n",
              "      <td>315.000000</td>\n",
              "    </tr>\n",
              "    <tr>\n",
              "      <th>mean</th>\n",
              "      <td>61.529587</td>\n",
              "      <td>130.865841</td>\n",
              "      <td>90.315206</td>\n",
              "      <td>0.005017</td>\n",
              "      <td>71.111175</td>\n",
              "      <td>0.001953</td>\n",
              "      <td>53.812381</td>\n",
              "      <td>0.006921</td>\n",
              "      <td>18525.211420</td>\n",
              "      <td>42631.541003</td>\n",
              "      <td>7809.117695</td>\n",
              "      <td>0.161905</td>\n",
              "      <td>0.434921</td>\n",
              "    </tr>\n",
              "    <tr>\n",
              "      <th>std</th>\n",
              "      <td>6.136602</td>\n",
              "      <td>9.017907</td>\n",
              "      <td>8.387810</td>\n",
              "      <td>0.000711</td>\n",
              "      <td>9.202331</td>\n",
              "      <td>0.000608</td>\n",
              "      <td>8.493499</td>\n",
              "      <td>0.000866</td>\n",
              "      <td>4491.338074</td>\n",
              "      <td>31436.388444</td>\n",
              "      <td>1610.990399</td>\n",
              "      <td>0.368950</td>\n",
              "      <td>1.127841</td>\n",
              "    </tr>\n",
              "    <tr>\n",
              "      <th>min</th>\n",
              "      <td>11.000000</td>\n",
              "      <td>120.150000</td>\n",
              "      <td>80.200000</td>\n",
              "      <td>0.001600</td>\n",
              "      <td>60.020000</td>\n",
              "      <td>0.000200</td>\n",
              "      <td>45.050000</td>\n",
              "      <td>0.000400</td>\n",
              "      <td>13827.586210</td>\n",
              "      <td>15918.750000</td>\n",
              "      <td>5710.000000</td>\n",
              "      <td>0.000000</td>\n",
              "      <td>0.000000</td>\n",
              "    </tr>\n",
              "    <tr>\n",
              "      <th>25%</th>\n",
              "      <td>60.995000</td>\n",
              "      <td>124.605000</td>\n",
              "      <td>84.485000</td>\n",
              "      <td>0.004500</td>\n",
              "      <td>65.730000</td>\n",
              "      <td>0.001400</td>\n",
              "      <td>49.535000</td>\n",
              "      <td>0.006600</td>\n",
              "      <td>16080.384615</td>\n",
              "      <td>28213.873625</td>\n",
              "      <td>6949.917688</td>\n",
              "      <td>0.000000</td>\n",
              "      <td>0.000000</td>\n",
              "    </tr>\n",
              "    <tr>\n",
              "      <th>50%</th>\n",
              "      <td>62.340000</td>\n",
              "      <td>130.140000</td>\n",
              "      <td>89.820000</td>\n",
              "      <td>0.005100</td>\n",
              "      <td>70.670000</td>\n",
              "      <td>0.001900</td>\n",
              "      <td>53.140000</td>\n",
              "      <td>0.007000</td>\n",
              "      <td>17822.916670</td>\n",
              "      <td>37068.421050</td>\n",
              "      <td>7588.709677</td>\n",
              "      <td>0.000000</td>\n",
              "      <td>0.000000</td>\n",
              "    </tr>\n",
              "    <tr>\n",
              "      <th>75%</th>\n",
              "      <td>63.750000</td>\n",
              "      <td>135.015000</td>\n",
              "      <td>94.535000</td>\n",
              "      <td>0.005600</td>\n",
              "      <td>76.065000</td>\n",
              "      <td>0.002500</td>\n",
              "      <td>56.570000</td>\n",
              "      <td>0.007450</td>\n",
              "      <td>20096.763285</td>\n",
              "      <td>49643.750000</td>\n",
              "      <td>8287.178309</td>\n",
              "      <td>0.000000</td>\n",
              "      <td>0.000000</td>\n",
              "    </tr>\n",
              "    <tr>\n",
              "      <th>max</th>\n",
              "      <td>65.000000</td>\n",
              "      <td>201.000000</td>\n",
              "      <td>183.000000</td>\n",
              "      <td>0.006000</td>\n",
              "      <td>180.000000</td>\n",
              "      <td>0.003000</td>\n",
              "      <td>164.000000</td>\n",
              "      <td>0.008000</td>\n",
              "      <td>55000.000000</td>\n",
              "      <td>410000.000000</td>\n",
              "      <td>21354.166670</td>\n",
              "      <td>1.000000</td>\n",
              "      <td>5.000000</td>\n",
              "    </tr>\n",
              "  </tbody>\n",
              "</table>\n",
              "</div>\n",
              "    <div class=\"colab-df-buttons\">\n",
              "\n",
              "  <div class=\"colab-df-container\">\n",
              "    <button class=\"colab-df-convert\" onclick=\"convertToInteractive('df-7af5b3ae-da34-416e-9fed-49446f2b65ec')\"\n",
              "            title=\"Convert this dataframe to an interactive table.\"\n",
              "            style=\"display:none;\">\n",
              "\n",
              "  <svg xmlns=\"http://www.w3.org/2000/svg\" height=\"24px\" viewBox=\"0 -960 960 960\">\n",
              "    <path d=\"M120-120v-720h720v720H120Zm60-500h600v-160H180v160Zm220 220h160v-160H400v160Zm0 220h160v-160H400v160ZM180-400h160v-160H180v160Zm440 0h160v-160H620v160ZM180-180h160v-160H180v160Zm440 0h160v-160H620v160Z\"/>\n",
              "  </svg>\n",
              "    </button>\n",
              "\n",
              "  <style>\n",
              "    .colab-df-container {\n",
              "      display:flex;\n",
              "      gap: 12px;\n",
              "    }\n",
              "\n",
              "    .colab-df-convert {\n",
              "      background-color: #E8F0FE;\n",
              "      border: none;\n",
              "      border-radius: 50%;\n",
              "      cursor: pointer;\n",
              "      display: none;\n",
              "      fill: #1967D2;\n",
              "      height: 32px;\n",
              "      padding: 0 0 0 0;\n",
              "      width: 32px;\n",
              "    }\n",
              "\n",
              "    .colab-df-convert:hover {\n",
              "      background-color: #E2EBFA;\n",
              "      box-shadow: 0px 1px 2px rgba(60, 64, 67, 0.3), 0px 1px 3px 1px rgba(60, 64, 67, 0.15);\n",
              "      fill: #174EA6;\n",
              "    }\n",
              "\n",
              "    .colab-df-buttons div {\n",
              "      margin-bottom: 4px;\n",
              "    }\n",
              "\n",
              "    [theme=dark] .colab-df-convert {\n",
              "      background-color: #3B4455;\n",
              "      fill: #D2E3FC;\n",
              "    }\n",
              "\n",
              "    [theme=dark] .colab-df-convert:hover {\n",
              "      background-color: #434B5C;\n",
              "      box-shadow: 0px 1px 3px 1px rgba(0, 0, 0, 0.15);\n",
              "      filter: drop-shadow(0px 1px 2px rgba(0, 0, 0, 0.3));\n",
              "      fill: #FFFFFF;\n",
              "    }\n",
              "  </style>\n",
              "\n",
              "    <script>\n",
              "      const buttonEl =\n",
              "        document.querySelector('#df-7af5b3ae-da34-416e-9fed-49446f2b65ec button.colab-df-convert');\n",
              "      buttonEl.style.display =\n",
              "        google.colab.kernel.accessAllowed ? 'block' : 'none';\n",
              "\n",
              "      async function convertToInteractive(key) {\n",
              "        const element = document.querySelector('#df-7af5b3ae-da34-416e-9fed-49446f2b65ec');\n",
              "        const dataTable =\n",
              "          await google.colab.kernel.invokeFunction('convertToInteractive',\n",
              "                                                    [key], {});\n",
              "        if (!dataTable) return;\n",
              "\n",
              "        const docLinkHtml = 'Like what you see? Visit the ' +\n",
              "          '<a target=\"_blank\" href=https://colab.research.google.com/notebooks/data_table.ipynb>data table notebook</a>'\n",
              "          + ' to learn more about interactive tables.';\n",
              "        element.innerHTML = '';\n",
              "        dataTable['output_type'] = 'display_data';\n",
              "        await google.colab.output.renderOutput(dataTable, element);\n",
              "        const docLink = document.createElement('div');\n",
              "        docLink.innerHTML = docLinkHtml;\n",
              "        element.appendChild(docLink);\n",
              "      }\n",
              "    </script>\n",
              "  </div>\n",
              "\n",
              "\n",
              "<div id=\"df-0b14e816-fef4-4312-bb82-1c12ebb8de44\">\n",
              "  <button class=\"colab-df-quickchart\" onclick=\"quickchart('df-0b14e816-fef4-4312-bb82-1c12ebb8de44')\"\n",
              "            title=\"Suggest charts\"\n",
              "            style=\"display:none;\">\n",
              "\n",
              "<svg xmlns=\"http://www.w3.org/2000/svg\" height=\"24px\"viewBox=\"0 0 24 24\"\n",
              "     width=\"24px\">\n",
              "    <g>\n",
              "        <path d=\"M19 3H5c-1.1 0-2 .9-2 2v14c0 1.1.9 2 2 2h14c1.1 0 2-.9 2-2V5c0-1.1-.9-2-2-2zM9 17H7v-7h2v7zm4 0h-2V7h2v10zm4 0h-2v-4h2v4z\"/>\n",
              "    </g>\n",
              "</svg>\n",
              "  </button>\n",
              "\n",
              "<style>\n",
              "  .colab-df-quickchart {\n",
              "      --bg-color: #E8F0FE;\n",
              "      --fill-color: #1967D2;\n",
              "      --hover-bg-color: #E2EBFA;\n",
              "      --hover-fill-color: #174EA6;\n",
              "      --disabled-fill-color: #AAA;\n",
              "      --disabled-bg-color: #DDD;\n",
              "  }\n",
              "\n",
              "  [theme=dark] .colab-df-quickchart {\n",
              "      --bg-color: #3B4455;\n",
              "      --fill-color: #D2E3FC;\n",
              "      --hover-bg-color: #434B5C;\n",
              "      --hover-fill-color: #FFFFFF;\n",
              "      --disabled-bg-color: #3B4455;\n",
              "      --disabled-fill-color: #666;\n",
              "  }\n",
              "\n",
              "  .colab-df-quickchart {\n",
              "    background-color: var(--bg-color);\n",
              "    border: none;\n",
              "    border-radius: 50%;\n",
              "    cursor: pointer;\n",
              "    display: none;\n",
              "    fill: var(--fill-color);\n",
              "    height: 32px;\n",
              "    padding: 0;\n",
              "    width: 32px;\n",
              "  }\n",
              "\n",
              "  .colab-df-quickchart:hover {\n",
              "    background-color: var(--hover-bg-color);\n",
              "    box-shadow: 0 1px 2px rgba(60, 64, 67, 0.3), 0 1px 3px 1px rgba(60, 64, 67, 0.15);\n",
              "    fill: var(--button-hover-fill-color);\n",
              "  }\n",
              "\n",
              "  .colab-df-quickchart-complete:disabled,\n",
              "  .colab-df-quickchart-complete:disabled:hover {\n",
              "    background-color: var(--disabled-bg-color);\n",
              "    fill: var(--disabled-fill-color);\n",
              "    box-shadow: none;\n",
              "  }\n",
              "\n",
              "  .colab-df-spinner {\n",
              "    border: 2px solid var(--fill-color);\n",
              "    border-color: transparent;\n",
              "    border-bottom-color: var(--fill-color);\n",
              "    animation:\n",
              "      spin 1s steps(1) infinite;\n",
              "  }\n",
              "\n",
              "  @keyframes spin {\n",
              "    0% {\n",
              "      border-color: transparent;\n",
              "      border-bottom-color: var(--fill-color);\n",
              "      border-left-color: var(--fill-color);\n",
              "    }\n",
              "    20% {\n",
              "      border-color: transparent;\n",
              "      border-left-color: var(--fill-color);\n",
              "      border-top-color: var(--fill-color);\n",
              "    }\n",
              "    30% {\n",
              "      border-color: transparent;\n",
              "      border-left-color: var(--fill-color);\n",
              "      border-top-color: var(--fill-color);\n",
              "      border-right-color: var(--fill-color);\n",
              "    }\n",
              "    40% {\n",
              "      border-color: transparent;\n",
              "      border-right-color: var(--fill-color);\n",
              "      border-top-color: var(--fill-color);\n",
              "    }\n",
              "    60% {\n",
              "      border-color: transparent;\n",
              "      border-right-color: var(--fill-color);\n",
              "    }\n",
              "    80% {\n",
              "      border-color: transparent;\n",
              "      border-right-color: var(--fill-color);\n",
              "      border-bottom-color: var(--fill-color);\n",
              "    }\n",
              "    90% {\n",
              "      border-color: transparent;\n",
              "      border-bottom-color: var(--fill-color);\n",
              "    }\n",
              "  }\n",
              "</style>\n",
              "\n",
              "  <script>\n",
              "    async function quickchart(key) {\n",
              "      const quickchartButtonEl =\n",
              "        document.querySelector('#' + key + ' button');\n",
              "      quickchartButtonEl.disabled = true;  // To prevent multiple clicks.\n",
              "      quickchartButtonEl.classList.add('colab-df-spinner');\n",
              "      try {\n",
              "        const charts = await google.colab.kernel.invokeFunction(\n",
              "            'suggestCharts', [key], {});\n",
              "      } catch (error) {\n",
              "        console.error('Error during call to suggestCharts:', error);\n",
              "      }\n",
              "      quickchartButtonEl.classList.remove('colab-df-spinner');\n",
              "      quickchartButtonEl.classList.add('colab-df-quickchart-complete');\n",
              "    }\n",
              "    (() => {\n",
              "      let quickchartButtonEl =\n",
              "        document.querySelector('#df-0b14e816-fef4-4312-bb82-1c12ebb8de44 button');\n",
              "      quickchartButtonEl.style.display =\n",
              "        google.colab.kernel.accessAllowed ? 'block' : 'none';\n",
              "    })();\n",
              "  </script>\n",
              "</div>\n",
              "    </div>\n",
              "  </div>\n"
            ],
            "application/vnd.google.colaboratory.intrinsic+json": {
              "type": "dataframe",
              "summary": "{\n  \"name\": \"data\",\n  \"rows\": 8,\n  \"fields\": [\n    {\n      \"column\": \"Accelerometer\",\n      \"properties\": {\n        \"dtype\": \"number\",\n        \"std\": 97.79055703635903,\n        \"min\": 6.136601957687934,\n        \"max\": 315.0,\n        \"num_unique_values\": 8,\n        \"samples\": [\n          61.5295873015873,\n          62.34,\n          315.0\n        ],\n        \"semantic_type\": \"\",\n        \"description\": \"\"\n      }\n    },\n    {\n      \"column\": \"Temperature\",\n      \"properties\": {\n        \"dtype\": \"number\",\n        \"std\": 86.25270723482339,\n        \"min\": 9.017906752901355,\n        \"max\": 315.0,\n        \"num_unique_values\": 8,\n        \"samples\": [\n          130.86584126984127,\n          130.14,\n          315.0\n        ],\n        \"semantic_type\": \"\",\n        \"description\": \"\"\n      }\n    },\n    {\n      \"column\": \"freq_x\",\n      \"properties\": {\n        \"dtype\": \"number\",\n        \"std\": 92.35932469282481,\n        \"min\": 8.38781035887913,\n        \"max\": 315.0,\n        \"num_unique_values\": 8,\n        \"samples\": [\n          90.31520634920635,\n          89.82,\n          315.0\n        ],\n        \"semantic_type\": \"\",\n        \"description\": \"\"\n      }\n    },\n    {\n      \"column\": \"a_x\",\n      \"properties\": {\n        \"dtype\": \"number\",\n        \"std\": 111.36787720328245,\n        \"min\": 0.0007108668762160342,\n        \"max\": 315.0,\n        \"num_unique_values\": 8,\n        \"samples\": [\n          0.005016507936507937,\n          0.0051,\n          315.0\n        ],\n        \"semantic_type\": \"\",\n        \"description\": \"\"\n      }\n    },\n    {\n      \"column\": \"freq_y\",\n      \"properties\": {\n        \"dtype\": \"number\",\n        \"std\": 96.82396414729844,\n        \"min\": 9.202330891618892,\n        \"max\": 315.0,\n        \"num_unique_values\": 8,\n        \"samples\": [\n          71.11117460317462,\n          70.67,\n          315.0\n        ],\n        \"semantic_type\": \"\",\n        \"description\": \"\"\n      }\n    },\n    {\n      \"column\": \"a_y\",\n      \"properties\": {\n        \"dtype\": \"number\",\n        \"std\": 111.36873414641863,\n        \"min\": 0.0002,\n        \"max\": 315.0,\n        \"num_unique_values\": 8,\n        \"samples\": [\n          0.0019526984126984127,\n          0.0019,\n          315.0\n        ],\n        \"semantic_type\": \"\",\n        \"description\": \"\"\n      }\n    },\n    {\n      \"column\": \"freq_z\",\n      \"properties\": {\n        \"dtype\": \"number\",\n        \"std\": 100.0757364208749,\n        \"min\": 8.493498584114919,\n        \"max\": 315.0,\n        \"num_unique_values\": 8,\n        \"samples\": [\n          53.812380952380956,\n          53.14,\n          315.0\n        ],\n        \"semantic_type\": \"\",\n        \"description\": \"\"\n      }\n    },\n    {\n      \"column\": \"a_z\",\n      \"properties\": {\n        \"dtype\": \"number\",\n        \"std\": 111.36743734417904,\n        \"min\": 0.0004,\n        \"max\": 315.0,\n        \"num_unique_values\": 8,\n        \"samples\": [\n          0.006920952380952382,\n          0.007,\n          315.0\n        ],\n        \"semantic_type\": \"\",\n        \"description\": \"\"\n      }\n    },\n    {\n      \"column\": \"vib_x\",\n      \"properties\": {\n        \"dtype\": \"number\",\n        \"std\": 16429.320417525483,\n        \"min\": 315.0,\n        \"max\": 55000.0,\n        \"num_unique_values\": 8,\n        \"samples\": [\n          18525.211419873016,\n          17822.91667,\n          315.0\n        ],\n        \"semantic_type\": \"\",\n        \"description\": \"\"\n      }\n    },\n    {\n      \"column\": \"vib_y\",\n      \"properties\": {\n        \"dtype\": \"number\",\n        \"std\": 135478.33194458458,\n        \"min\": 315.0,\n        \"max\": 410000.0,\n        \"num_unique_values\": 8,\n        \"samples\": [\n          42631.54100253968,\n          37068.42105,\n          315.0\n        ],\n        \"semantic_type\": \"\",\n        \"description\": \"\"\n      }\n    },\n    {\n      \"column\": \"vib_z\",\n      \"properties\": {\n        \"dtype\": \"number\",\n        \"std\": 6352.218802604266,\n        \"min\": 315.0,\n        \"max\": 21354.16667,\n        \"num_unique_values\": 8,\n        \"samples\": [\n          7809.117695025396,\n          7588.709677,\n          315.0\n        ],\n        \"semantic_type\": \"\",\n        \"description\": \"\"\n      }\n    },\n    {\n      \"column\": \"AnomalyDetect\",\n      \"properties\": {\n        \"dtype\": \"number\",\n        \"std\": 111.29252934932161,\n        \"min\": 0.0,\n        \"max\": 315.0,\n        \"num_unique_values\": 5,\n        \"samples\": [\n          0.1619047619047619,\n          1.0,\n          0.3689495207512843\n        ],\n        \"semantic_type\": \"\",\n        \"description\": \"\"\n      }\n    },\n    {\n      \"column\": \"AnomalyType\",\n      \"properties\": {\n        \"dtype\": \"number\",\n        \"std\": 111.0509117355544,\n        \"min\": 0.0,\n        \"max\": 315.0,\n        \"num_unique_values\": 5,\n        \"samples\": [\n          0.43492063492063493,\n          5.0,\n          1.1278408900633807\n        ],\n        \"semantic_type\": \"\",\n        \"description\": \"\"\n      }\n    }\n  ]\n}"
            }
          },
          "metadata": {},
          "execution_count": 5
        }
      ],
      "source": [
        "data.describe()"
      ]
    },
    {
      "cell_type": "code",
      "source": [
        "df = data\n",
        "data.drop(['freq_x', 'a_x', 'freq_y', 'a_y', 'freq_z', 'a_z'], axis=1, inplace=True)"
      ],
      "metadata": {
        "id": "_cJgS-P8OjO0"
      },
      "execution_count": null,
      "outputs": []
    },
    {
      "cell_type": "code",
      "source": [
        "data.info()"
      ],
      "metadata": {
        "colab": {
          "base_uri": "https://localhost:8080/"
        },
        "id": "-zVlVkyxR_PW",
        "outputId": "9e167c03-d5b2-492f-9b97-47961d4d000d"
      },
      "execution_count": null,
      "outputs": [
        {
          "output_type": "stream",
          "name": "stdout",
          "text": [
            "<class 'pandas.core.frame.DataFrame'>\n",
            "RangeIndex: 315 entries, 0 to 314\n",
            "Data columns (total 7 columns):\n",
            " #   Column         Non-Null Count  Dtype  \n",
            "---  ------         --------------  -----  \n",
            " 0   Accelerometer  315 non-null    float64\n",
            " 1   Temperature    315 non-null    float64\n",
            " 2   vib_x          315 non-null    float64\n",
            " 3   vib_y          315 non-null    float64\n",
            " 4   vib_z          315 non-null    float64\n",
            " 5   AnomalyDetect  315 non-null    int64  \n",
            " 6   AnomalyType    315 non-null    int64  \n",
            "dtypes: float64(5), int64(2)\n",
            "memory usage: 17.4 KB\n"
          ]
        }
      ]
    },
    {
      "cell_type": "code",
      "execution_count": null,
      "metadata": {
        "colab": {
          "base_uri": "https://localhost:8080/"
        },
        "id": "V78Fz8FhT2Ba",
        "outputId": "ef81d875-f291-4fbf-dba5-b0a98efbfe16"
      },
      "outputs": [
        {
          "output_type": "stream",
          "name": "stdout",
          "text": [
            "Missing values in the dataset :  0\n",
            "Duplicate values in the dataset :  9\n"
          ]
        }
      ],
      "source": [
        "# To check for anymissing or duplicate values\n",
        "\n",
        "print('Missing values in the dataset : ',data.isna().sum().sum())\n",
        "print('Duplicate values in the dataset : ',data.duplicated().sum())"
      ]
    },
    {
      "cell_type": "code",
      "execution_count": null,
      "metadata": {
        "id": "XQBssma1UHNR"
      },
      "outputs": [],
      "source": [
        "plt.figure(figsize = (15,5))\n",
        "plt.subplot(1,2,1)\n",
        "data['AnomalyDetect'].value_counts().plot(kind = 'pie', autopct = '%.2f%%')\n",
        "plt.subplot(1,2,2)\n",
        "sns.countplot(x = 'AnomalyDetect', data = data)\n",
        "plt.show()"
      ]
    },
    {
      "cell_type": "markdown",
      "metadata": {
        "id": "M6bZEwTGT3Cb"
      },
      "source": [
        "# Training the actual prediction model"
      ]
    },
    {
      "cell_type": "code",
      "execution_count": null,
      "metadata": {
        "colab": {
          "base_uri": "https://localhost:8080/"
        },
        "id": "ApL2R0Nt-LbN",
        "outputId": "266ca232-28ae-4e42-adaf-c0f7d6de6dbd"
      },
      "outputs": [
        {
          "output_type": "execute_result",
          "data": {
            "text/plain": [
              "0      0\n",
              "1      0\n",
              "2      0\n",
              "3      1\n",
              "4      0\n",
              "      ..\n",
              "310    1\n",
              "311    0\n",
              "312    0\n",
              "313    1\n",
              "314    0\n",
              "Name: AnomalyDetect, Length: 315, dtype: int64"
            ]
          },
          "metadata": {},
          "execution_count": 9
        }
      ],
      "source": [
        "y_train = data.iloc[:,5]\n",
        "y_train"
      ]
    },
    {
      "cell_type": "code",
      "execution_count": null,
      "metadata": {
        "colab": {
          "base_uri": "https://localhost:8080/",
          "height": 423
        },
        "id": "ImlvSrjAIbYB",
        "outputId": "6c4de09a-aea5-4f9f-e007-ed271734cffc"
      },
      "outputs": [
        {
          "output_type": "execute_result",
          "data": {
            "text/plain": [
              "     Accelerometer  Temperature        vib_x        vib_y        vib_z\n",
              "0            62.99       123.27  18400.00000  28600.00000  7678.260870\n",
              "1            61.40       125.86  14647.45763  24046.42857  7596.969697\n",
              "2            63.16       139.13  20102.22222  34100.00000  6585.714286\n",
              "3            50.00       131.37  20645.45455  26103.44828  8655.000000\n",
              "4            62.78       139.62  15868.96552  35309.52381  8607.575758\n",
              "..             ...          ...          ...          ...          ...\n",
              "310          15.00       133.51  19870.45455  28189.28571  8733.333333\n",
              "311          62.43       125.06  19790.69767  62491.66667  7170.422535\n",
              "312          64.75       126.29  15738.98305  34360.00000  6783.750000\n",
              "313          61.95       178.00  18632.07547  30043.47826  7668.493151\n",
              "314          64.30       139.55  16448.27586  38750.00000  7000.000000\n",
              "\n",
              "[315 rows x 5 columns]"
            ],
            "text/html": [
              "\n",
              "  <div id=\"df-b431a1ec-5862-4603-89b2-9712774b6e68\" class=\"colab-df-container\">\n",
              "    <div>\n",
              "<style scoped>\n",
              "    .dataframe tbody tr th:only-of-type {\n",
              "        vertical-align: middle;\n",
              "    }\n",
              "\n",
              "    .dataframe tbody tr th {\n",
              "        vertical-align: top;\n",
              "    }\n",
              "\n",
              "    .dataframe thead th {\n",
              "        text-align: right;\n",
              "    }\n",
              "</style>\n",
              "<table border=\"1\" class=\"dataframe\">\n",
              "  <thead>\n",
              "    <tr style=\"text-align: right;\">\n",
              "      <th></th>\n",
              "      <th>Accelerometer</th>\n",
              "      <th>Temperature</th>\n",
              "      <th>vib_x</th>\n",
              "      <th>vib_y</th>\n",
              "      <th>vib_z</th>\n",
              "    </tr>\n",
              "  </thead>\n",
              "  <tbody>\n",
              "    <tr>\n",
              "      <th>0</th>\n",
              "      <td>62.99</td>\n",
              "      <td>123.27</td>\n",
              "      <td>18400.00000</td>\n",
              "      <td>28600.00000</td>\n",
              "      <td>7678.260870</td>\n",
              "    </tr>\n",
              "    <tr>\n",
              "      <th>1</th>\n",
              "      <td>61.40</td>\n",
              "      <td>125.86</td>\n",
              "      <td>14647.45763</td>\n",
              "      <td>24046.42857</td>\n",
              "      <td>7596.969697</td>\n",
              "    </tr>\n",
              "    <tr>\n",
              "      <th>2</th>\n",
              "      <td>63.16</td>\n",
              "      <td>139.13</td>\n",
              "      <td>20102.22222</td>\n",
              "      <td>34100.00000</td>\n",
              "      <td>6585.714286</td>\n",
              "    </tr>\n",
              "    <tr>\n",
              "      <th>3</th>\n",
              "      <td>50.00</td>\n",
              "      <td>131.37</td>\n",
              "      <td>20645.45455</td>\n",
              "      <td>26103.44828</td>\n",
              "      <td>8655.000000</td>\n",
              "    </tr>\n",
              "    <tr>\n",
              "      <th>4</th>\n",
              "      <td>62.78</td>\n",
              "      <td>139.62</td>\n",
              "      <td>15868.96552</td>\n",
              "      <td>35309.52381</td>\n",
              "      <td>8607.575758</td>\n",
              "    </tr>\n",
              "    <tr>\n",
              "      <th>...</th>\n",
              "      <td>...</td>\n",
              "      <td>...</td>\n",
              "      <td>...</td>\n",
              "      <td>...</td>\n",
              "      <td>...</td>\n",
              "    </tr>\n",
              "    <tr>\n",
              "      <th>310</th>\n",
              "      <td>15.00</td>\n",
              "      <td>133.51</td>\n",
              "      <td>19870.45455</td>\n",
              "      <td>28189.28571</td>\n",
              "      <td>8733.333333</td>\n",
              "    </tr>\n",
              "    <tr>\n",
              "      <th>311</th>\n",
              "      <td>62.43</td>\n",
              "      <td>125.06</td>\n",
              "      <td>19790.69767</td>\n",
              "      <td>62491.66667</td>\n",
              "      <td>7170.422535</td>\n",
              "    </tr>\n",
              "    <tr>\n",
              "      <th>312</th>\n",
              "      <td>64.75</td>\n",
              "      <td>126.29</td>\n",
              "      <td>15738.98305</td>\n",
              "      <td>34360.00000</td>\n",
              "      <td>6783.750000</td>\n",
              "    </tr>\n",
              "    <tr>\n",
              "      <th>313</th>\n",
              "      <td>61.95</td>\n",
              "      <td>178.00</td>\n",
              "      <td>18632.07547</td>\n",
              "      <td>30043.47826</td>\n",
              "      <td>7668.493151</td>\n",
              "    </tr>\n",
              "    <tr>\n",
              "      <th>314</th>\n",
              "      <td>64.30</td>\n",
              "      <td>139.55</td>\n",
              "      <td>16448.27586</td>\n",
              "      <td>38750.00000</td>\n",
              "      <td>7000.000000</td>\n",
              "    </tr>\n",
              "  </tbody>\n",
              "</table>\n",
              "<p>315 rows × 5 columns</p>\n",
              "</div>\n",
              "    <div class=\"colab-df-buttons\">\n",
              "\n",
              "  <div class=\"colab-df-container\">\n",
              "    <button class=\"colab-df-convert\" onclick=\"convertToInteractive('df-b431a1ec-5862-4603-89b2-9712774b6e68')\"\n",
              "            title=\"Convert this dataframe to an interactive table.\"\n",
              "            style=\"display:none;\">\n",
              "\n",
              "  <svg xmlns=\"http://www.w3.org/2000/svg\" height=\"24px\" viewBox=\"0 -960 960 960\">\n",
              "    <path d=\"M120-120v-720h720v720H120Zm60-500h600v-160H180v160Zm220 220h160v-160H400v160Zm0 220h160v-160H400v160ZM180-400h160v-160H180v160Zm440 0h160v-160H620v160ZM180-180h160v-160H180v160Zm440 0h160v-160H620v160Z\"/>\n",
              "  </svg>\n",
              "    </button>\n",
              "\n",
              "  <style>\n",
              "    .colab-df-container {\n",
              "      display:flex;\n",
              "      gap: 12px;\n",
              "    }\n",
              "\n",
              "    .colab-df-convert {\n",
              "      background-color: #E8F0FE;\n",
              "      border: none;\n",
              "      border-radius: 50%;\n",
              "      cursor: pointer;\n",
              "      display: none;\n",
              "      fill: #1967D2;\n",
              "      height: 32px;\n",
              "      padding: 0 0 0 0;\n",
              "      width: 32px;\n",
              "    }\n",
              "\n",
              "    .colab-df-convert:hover {\n",
              "      background-color: #E2EBFA;\n",
              "      box-shadow: 0px 1px 2px rgba(60, 64, 67, 0.3), 0px 1px 3px 1px rgba(60, 64, 67, 0.15);\n",
              "      fill: #174EA6;\n",
              "    }\n",
              "\n",
              "    .colab-df-buttons div {\n",
              "      margin-bottom: 4px;\n",
              "    }\n",
              "\n",
              "    [theme=dark] .colab-df-convert {\n",
              "      background-color: #3B4455;\n",
              "      fill: #D2E3FC;\n",
              "    }\n",
              "\n",
              "    [theme=dark] .colab-df-convert:hover {\n",
              "      background-color: #434B5C;\n",
              "      box-shadow: 0px 1px 3px 1px rgba(0, 0, 0, 0.15);\n",
              "      filter: drop-shadow(0px 1px 2px rgba(0, 0, 0, 0.3));\n",
              "      fill: #FFFFFF;\n",
              "    }\n",
              "  </style>\n",
              "\n",
              "    <script>\n",
              "      const buttonEl =\n",
              "        document.querySelector('#df-b431a1ec-5862-4603-89b2-9712774b6e68 button.colab-df-convert');\n",
              "      buttonEl.style.display =\n",
              "        google.colab.kernel.accessAllowed ? 'block' : 'none';\n",
              "\n",
              "      async function convertToInteractive(key) {\n",
              "        const element = document.querySelector('#df-b431a1ec-5862-4603-89b2-9712774b6e68');\n",
              "        const dataTable =\n",
              "          await google.colab.kernel.invokeFunction('convertToInteractive',\n",
              "                                                    [key], {});\n",
              "        if (!dataTable) return;\n",
              "\n",
              "        const docLinkHtml = 'Like what you see? Visit the ' +\n",
              "          '<a target=\"_blank\" href=https://colab.research.google.com/notebooks/data_table.ipynb>data table notebook</a>'\n",
              "          + ' to learn more about interactive tables.';\n",
              "        element.innerHTML = '';\n",
              "        dataTable['output_type'] = 'display_data';\n",
              "        await google.colab.output.renderOutput(dataTable, element);\n",
              "        const docLink = document.createElement('div');\n",
              "        docLink.innerHTML = docLinkHtml;\n",
              "        element.appendChild(docLink);\n",
              "      }\n",
              "    </script>\n",
              "  </div>\n",
              "\n",
              "\n",
              "<div id=\"df-97f78612-8a06-45de-90d6-061226d4e634\">\n",
              "  <button class=\"colab-df-quickchart\" onclick=\"quickchart('df-97f78612-8a06-45de-90d6-061226d4e634')\"\n",
              "            title=\"Suggest charts\"\n",
              "            style=\"display:none;\">\n",
              "\n",
              "<svg xmlns=\"http://www.w3.org/2000/svg\" height=\"24px\"viewBox=\"0 0 24 24\"\n",
              "     width=\"24px\">\n",
              "    <g>\n",
              "        <path d=\"M19 3H5c-1.1 0-2 .9-2 2v14c0 1.1.9 2 2 2h14c1.1 0 2-.9 2-2V5c0-1.1-.9-2-2-2zM9 17H7v-7h2v7zm4 0h-2V7h2v10zm4 0h-2v-4h2v4z\"/>\n",
              "    </g>\n",
              "</svg>\n",
              "  </button>\n",
              "\n",
              "<style>\n",
              "  .colab-df-quickchart {\n",
              "      --bg-color: #E8F0FE;\n",
              "      --fill-color: #1967D2;\n",
              "      --hover-bg-color: #E2EBFA;\n",
              "      --hover-fill-color: #174EA6;\n",
              "      --disabled-fill-color: #AAA;\n",
              "      --disabled-bg-color: #DDD;\n",
              "  }\n",
              "\n",
              "  [theme=dark] .colab-df-quickchart {\n",
              "      --bg-color: #3B4455;\n",
              "      --fill-color: #D2E3FC;\n",
              "      --hover-bg-color: #434B5C;\n",
              "      --hover-fill-color: #FFFFFF;\n",
              "      --disabled-bg-color: #3B4455;\n",
              "      --disabled-fill-color: #666;\n",
              "  }\n",
              "\n",
              "  .colab-df-quickchart {\n",
              "    background-color: var(--bg-color);\n",
              "    border: none;\n",
              "    border-radius: 50%;\n",
              "    cursor: pointer;\n",
              "    display: none;\n",
              "    fill: var(--fill-color);\n",
              "    height: 32px;\n",
              "    padding: 0;\n",
              "    width: 32px;\n",
              "  }\n",
              "\n",
              "  .colab-df-quickchart:hover {\n",
              "    background-color: var(--hover-bg-color);\n",
              "    box-shadow: 0 1px 2px rgba(60, 64, 67, 0.3), 0 1px 3px 1px rgba(60, 64, 67, 0.15);\n",
              "    fill: var(--button-hover-fill-color);\n",
              "  }\n",
              "\n",
              "  .colab-df-quickchart-complete:disabled,\n",
              "  .colab-df-quickchart-complete:disabled:hover {\n",
              "    background-color: var(--disabled-bg-color);\n",
              "    fill: var(--disabled-fill-color);\n",
              "    box-shadow: none;\n",
              "  }\n",
              "\n",
              "  .colab-df-spinner {\n",
              "    border: 2px solid var(--fill-color);\n",
              "    border-color: transparent;\n",
              "    border-bottom-color: var(--fill-color);\n",
              "    animation:\n",
              "      spin 1s steps(1) infinite;\n",
              "  }\n",
              "\n",
              "  @keyframes spin {\n",
              "    0% {\n",
              "      border-color: transparent;\n",
              "      border-bottom-color: var(--fill-color);\n",
              "      border-left-color: var(--fill-color);\n",
              "    }\n",
              "    20% {\n",
              "      border-color: transparent;\n",
              "      border-left-color: var(--fill-color);\n",
              "      border-top-color: var(--fill-color);\n",
              "    }\n",
              "    30% {\n",
              "      border-color: transparent;\n",
              "      border-left-color: var(--fill-color);\n",
              "      border-top-color: var(--fill-color);\n",
              "      border-right-color: var(--fill-color);\n",
              "    }\n",
              "    40% {\n",
              "      border-color: transparent;\n",
              "      border-right-color: var(--fill-color);\n",
              "      border-top-color: var(--fill-color);\n",
              "    }\n",
              "    60% {\n",
              "      border-color: transparent;\n",
              "      border-right-color: var(--fill-color);\n",
              "    }\n",
              "    80% {\n",
              "      border-color: transparent;\n",
              "      border-right-color: var(--fill-color);\n",
              "      border-bottom-color: var(--fill-color);\n",
              "    }\n",
              "    90% {\n",
              "      border-color: transparent;\n",
              "      border-bottom-color: var(--fill-color);\n",
              "    }\n",
              "  }\n",
              "</style>\n",
              "\n",
              "  <script>\n",
              "    async function quickchart(key) {\n",
              "      const quickchartButtonEl =\n",
              "        document.querySelector('#' + key + ' button');\n",
              "      quickchartButtonEl.disabled = true;  // To prevent multiple clicks.\n",
              "      quickchartButtonEl.classList.add('colab-df-spinner');\n",
              "      try {\n",
              "        const charts = await google.colab.kernel.invokeFunction(\n",
              "            'suggestCharts', [key], {});\n",
              "      } catch (error) {\n",
              "        console.error('Error during call to suggestCharts:', error);\n",
              "      }\n",
              "      quickchartButtonEl.classList.remove('colab-df-spinner');\n",
              "      quickchartButtonEl.classList.add('colab-df-quickchart-complete');\n",
              "    }\n",
              "    (() => {\n",
              "      let quickchartButtonEl =\n",
              "        document.querySelector('#df-97f78612-8a06-45de-90d6-061226d4e634 button');\n",
              "      quickchartButtonEl.style.display =\n",
              "        google.colab.kernel.accessAllowed ? 'block' : 'none';\n",
              "    })();\n",
              "  </script>\n",
              "</div>\n",
              "    </div>\n",
              "  </div>\n"
            ],
            "application/vnd.google.colaboratory.intrinsic+json": {
              "type": "dataframe",
              "variable_name": "x_train",
              "summary": "{\n  \"name\": \"x_train\",\n  \"rows\": 315,\n  \"fields\": [\n    {\n      \"column\": \"Accelerometer\",\n      \"properties\": {\n        \"dtype\": \"number\",\n        \"std\": 6.136601957687934,\n        \"min\": 11.0,\n        \"max\": 65.0,\n        \"num_unique_values\": 221,\n        \"samples\": [\n          60.43,\n          63.11,\n          64.17\n        ],\n        \"semantic_type\": \"\",\n        \"description\": \"\"\n      }\n    },\n    {\n      \"column\": \"Temperature\",\n      \"properties\": {\n        \"dtype\": \"number\",\n        \"std\": 9.017906752901355,\n        \"min\": 120.15,\n        \"max\": 201.0,\n        \"num_unique_values\": 275,\n        \"samples\": [\n          130.15,\n          136.75,\n          124.14\n        ],\n        \"semantic_type\": \"\",\n        \"description\": \"\"\n      }\n    },\n    {\n      \"column\": \"vib_x\",\n      \"properties\": {\n        \"dtype\": \"number\",\n        \"std\": 4491.338074255878,\n        \"min\": 13827.58621,\n        \"max\": 55000.0,\n        \"num_unique_values\": 299,\n        \"samples\": [\n          18143.47826,\n          17640.0,\n          22700.0\n        ],\n        \"semantic_type\": \"\",\n        \"description\": \"\"\n      }\n    },\n    {\n      \"column\": \"vib_y\",\n      \"properties\": {\n        \"dtype\": \"number\",\n        \"std\": 31436.388443618675,\n        \"min\": 15918.75,\n        \"max\": 410000.0,\n        \"num_unique_values\": 299,\n        \"samples\": [\n          30878.26087,\n          47000.0,\n          24556.0\n        ],\n        \"semantic_type\": \"\",\n        \"description\": \"\"\n      }\n    },\n    {\n      \"column\": \"vib_z\",\n      \"properties\": {\n        \"dtype\": \"number\",\n        \"std\": 1610.9903989364527,\n        \"min\": 5710.0,\n        \"max\": 21354.16667,\n        \"num_unique_values\": 297,\n        \"samples\": [\n          7804.054054,\n          9237.5,\n          7868.656716\n        ],\n        \"semantic_type\": \"\",\n        \"description\": \"\"\n      }\n    }\n  ]\n}"
            }
          },
          "metadata": {},
          "execution_count": 10
        }
      ],
      "source": [
        "x_train = data.iloc[:,0:5]\n",
        "x_train"
      ]
    },
    {
      "cell_type": "code",
      "execution_count": null,
      "metadata": {
        "id": "b0dunP8F8W55"
      },
      "outputs": [],
      "source": [
        "from sklearn.preprocessing import StandardScaler\n",
        "\n",
        "scaler = StandardScaler()\n",
        "\n",
        "X_train = scaler.fit_transform(x_train)"
      ]
    },
    {
      "cell_type": "code",
      "execution_count": null,
      "metadata": {
        "id": "GA8KeA__Ltpz"
      },
      "outputs": [],
      "source": [
        "KNN = KNeighborsClassifier"
      ]
    },
    {
      "cell_type": "code",
      "execution_count": null,
      "metadata": {
        "colab": {
          "base_uri": "https://localhost:8080/"
        },
        "id": "rAHDgFqZMyL6",
        "outputId": "38fefb3a-4819-43f6-c2d9-cbc5de5e66b4"
      },
      "outputs": [
        {
          "output_type": "execute_result",
          "data": {
            "text/plain": [
              "True"
            ]
          },
          "metadata": {},
          "execution_count": 13
        }
      ],
      "source": [
        "np.all(np.isfinite(x_train))"
      ]
    },
    {
      "cell_type": "code",
      "execution_count": null,
      "metadata": {
        "colab": {
          "base_uri": "https://localhost:8080/",
          "height": 74
        },
        "id": "cW-NQdBTLGQF",
        "outputId": "4f9ed952-6a07-41e6-e3d0-1f80869e01a9"
      },
      "outputs": [
        {
          "output_type": "execute_result",
          "data": {
            "text/plain": [
              "KNeighborsClassifier(n_neighbors=3)"
            ],
            "text/html": [
              "<style>#sk-container-id-1 {color: black;background-color: white;}#sk-container-id-1 pre{padding: 0;}#sk-container-id-1 div.sk-toggleable {background-color: white;}#sk-container-id-1 label.sk-toggleable__label {cursor: pointer;display: block;width: 100%;margin-bottom: 0;padding: 0.3em;box-sizing: border-box;text-align: center;}#sk-container-id-1 label.sk-toggleable__label-arrow:before {content: \"▸\";float: left;margin-right: 0.25em;color: #696969;}#sk-container-id-1 label.sk-toggleable__label-arrow:hover:before {color: black;}#sk-container-id-1 div.sk-estimator:hover label.sk-toggleable__label-arrow:before {color: black;}#sk-container-id-1 div.sk-toggleable__content {max-height: 0;max-width: 0;overflow: hidden;text-align: left;background-color: #f0f8ff;}#sk-container-id-1 div.sk-toggleable__content pre {margin: 0.2em;color: black;border-radius: 0.25em;background-color: #f0f8ff;}#sk-container-id-1 input.sk-toggleable__control:checked~div.sk-toggleable__content {max-height: 200px;max-width: 100%;overflow: auto;}#sk-container-id-1 input.sk-toggleable__control:checked~label.sk-toggleable__label-arrow:before {content: \"▾\";}#sk-container-id-1 div.sk-estimator input.sk-toggleable__control:checked~label.sk-toggleable__label {background-color: #d4ebff;}#sk-container-id-1 div.sk-label input.sk-toggleable__control:checked~label.sk-toggleable__label {background-color: #d4ebff;}#sk-container-id-1 input.sk-hidden--visually {border: 0;clip: rect(1px 1px 1px 1px);clip: rect(1px, 1px, 1px, 1px);height: 1px;margin: -1px;overflow: hidden;padding: 0;position: absolute;width: 1px;}#sk-container-id-1 div.sk-estimator {font-family: monospace;background-color: #f0f8ff;border: 1px dotted black;border-radius: 0.25em;box-sizing: border-box;margin-bottom: 0.5em;}#sk-container-id-1 div.sk-estimator:hover {background-color: #d4ebff;}#sk-container-id-1 div.sk-parallel-item::after {content: \"\";width: 100%;border-bottom: 1px solid gray;flex-grow: 1;}#sk-container-id-1 div.sk-label:hover label.sk-toggleable__label {background-color: #d4ebff;}#sk-container-id-1 div.sk-serial::before {content: \"\";position: absolute;border-left: 1px solid gray;box-sizing: border-box;top: 0;bottom: 0;left: 50%;z-index: 0;}#sk-container-id-1 div.sk-serial {display: flex;flex-direction: column;align-items: center;background-color: white;padding-right: 0.2em;padding-left: 0.2em;position: relative;}#sk-container-id-1 div.sk-item {position: relative;z-index: 1;}#sk-container-id-1 div.sk-parallel {display: flex;align-items: stretch;justify-content: center;background-color: white;position: relative;}#sk-container-id-1 div.sk-item::before, #sk-container-id-1 div.sk-parallel-item::before {content: \"\";position: absolute;border-left: 1px solid gray;box-sizing: border-box;top: 0;bottom: 0;left: 50%;z-index: -1;}#sk-container-id-1 div.sk-parallel-item {display: flex;flex-direction: column;z-index: 1;position: relative;background-color: white;}#sk-container-id-1 div.sk-parallel-item:first-child::after {align-self: flex-end;width: 50%;}#sk-container-id-1 div.sk-parallel-item:last-child::after {align-self: flex-start;width: 50%;}#sk-container-id-1 div.sk-parallel-item:only-child::after {width: 0;}#sk-container-id-1 div.sk-dashed-wrapped {border: 1px dashed gray;margin: 0 0.4em 0.5em 0.4em;box-sizing: border-box;padding-bottom: 0.4em;background-color: white;}#sk-container-id-1 div.sk-label label {font-family: monospace;font-weight: bold;display: inline-block;line-height: 1.2em;}#sk-container-id-1 div.sk-label-container {text-align: center;}#sk-container-id-1 div.sk-container {/* jupyter's `normalize.less` sets `[hidden] { display: none; }` but bootstrap.min.css set `[hidden] { display: none !important; }` so we also need the `!important` here to be able to override the default hidden behavior on the sphinx rendered scikit-learn.org. See: https://github.com/scikit-learn/scikit-learn/issues/21755 */display: inline-block !important;position: relative;}#sk-container-id-1 div.sk-text-repr-fallback {display: none;}</style><div id=\"sk-container-id-1\" class=\"sk-top-container\"><div class=\"sk-text-repr-fallback\"><pre>KNeighborsClassifier(n_neighbors=3)</pre><b>In a Jupyter environment, please rerun this cell to show the HTML representation or trust the notebook. <br />On GitHub, the HTML representation is unable to render, please try loading this page with nbviewer.org.</b></div><div class=\"sk-container\" hidden><div class=\"sk-item\"><div class=\"sk-estimator sk-toggleable\"><input class=\"sk-toggleable__control sk-hidden--visually\" id=\"sk-estimator-id-1\" type=\"checkbox\" checked><label for=\"sk-estimator-id-1\" class=\"sk-toggleable__label sk-toggleable__label-arrow\">KNeighborsClassifier</label><div class=\"sk-toggleable__content\"><pre>KNeighborsClassifier(n_neighbors=3)</pre></div></div></div></div></div>"
            ]
          },
          "metadata": {},
          "execution_count": 14
        }
      ],
      "source": [
        "knn = KNN(n_neighbors=3)\n",
        "\n",
        "# fit the model to the training set\n",
        "knn.fit(x_train, y_train)"
      ]
    },
    {
      "cell_type": "code",
      "execution_count": null,
      "metadata": {
        "colab": {
          "base_uri": "https://localhost:8080/"
        },
        "id": "FF9h_gN5LVmI",
        "outputId": "e0455eb0-71ce-460d-b15f-2fd75ac5c23e"
      },
      "outputs": [
        {
          "output_type": "execute_result",
          "data": {
            "text/plain": [
              "array([0, 0, 0, 0, 0, 0, 1, 0, 0, 0, 0, 0, 0, 0, 0, 0, 0, 0, 0, 1, 0, 0,\n",
              "       0, 0, 1, 0, 0, 0, 0, 0, 0, 0, 0, 0, 1, 0, 0, 0, 0, 0, 0, 0, 0, 0,\n",
              "       0, 1, 0, 0, 0, 0, 0, 0, 0, 0, 0, 0, 0, 0, 0, 0, 0, 0, 0, 0, 0, 0,\n",
              "       1, 0, 0, 0, 0, 0, 0, 0, 0, 0, 0, 0, 1, 0, 0, 0, 0, 0, 0, 0, 0, 0,\n",
              "       0, 0, 0, 0, 0, 0, 0, 0, 0, 0, 0, 0, 0, 0, 0, 0, 0, 0, 0, 0, 0, 1,\n",
              "       0, 0, 0, 0, 0, 0, 0, 0, 0, 0, 0, 0, 0, 0, 0, 0, 0, 0, 0, 1, 0, 0,\n",
              "       0, 0, 0, 0, 0, 0, 0, 0, 0, 0, 0, 0, 0, 0, 0, 1, 0, 0, 0, 0, 0, 0,\n",
              "       0, 0, 0, 0, 0, 0, 0, 0, 0, 0, 0, 0, 0, 0, 0, 0, 0, 0, 0, 0, 0, 0,\n",
              "       1, 0, 0, 0, 0, 0, 0, 0, 0, 0, 0, 0, 0, 0, 0, 1, 0, 0, 0, 0, 0, 0,\n",
              "       0, 0, 0, 0, 0, 0, 0, 0, 0, 0, 0, 0, 0, 0, 0, 0, 0, 0, 0, 0, 0, 0,\n",
              "       0, 0, 0, 0, 1, 1, 0, 0, 0, 0, 0, 0, 0, 0, 0, 1, 0, 0, 0, 1, 0, 1,\n",
              "       0, 0, 0, 0, 0, 0, 0, 0, 0, 0, 0, 0, 0, 0, 0, 0, 0, 0, 1, 0, 0, 0,\n",
              "       1, 0, 0, 0, 0, 0, 0, 0, 0, 0, 0, 0, 1, 0, 0, 0, 1, 0, 0, 0, 0, 0,\n",
              "       0, 0, 0, 0, 0, 0, 0, 0, 0, 0, 1, 0, 0, 0, 0, 0, 0, 1, 0, 0, 0, 0,\n",
              "       0, 0, 1, 0, 0, 0, 0])"
            ]
          },
          "metadata": {},
          "execution_count": 15
        }
      ],
      "source": [
        "y_pred = knn.predict(x_train)\n",
        "\n",
        "y_pred"
      ]
    },
    {
      "cell_type": "code",
      "source": [
        "data.insert(6,'AnomalyPred', y_pred )"
      ],
      "metadata": {
        "id": "OLxlbAlJW4NY"
      },
      "execution_count": null,
      "outputs": []
    },
    {
      "cell_type": "code",
      "execution_count": null,
      "metadata": {
        "colab": {
          "base_uri": "https://localhost:8080/",
          "height": 423
        },
        "id": "d0a7dD_CHw_X",
        "outputId": "96f7b711-3d8a-4573-df50-3a85f4189596"
      },
      "outputs": [
        {
          "output_type": "execute_result",
          "data": {
            "text/plain": [
              "     Accelerometer  Temperature        vib_x        vib_y        vib_z  \\\n",
              "0            62.99       123.27  18400.00000  28600.00000  7678.260870   \n",
              "1            61.40       125.86  14647.45763  24046.42857  7596.969697   \n",
              "2            63.16       139.13  20102.22222  34100.00000  6585.714286   \n",
              "3            50.00       131.37  20645.45455  26103.44828  8655.000000   \n",
              "4            62.78       139.62  15868.96552  35309.52381  8607.575758   \n",
              "..             ...          ...          ...          ...          ...   \n",
              "310          15.00       133.51  19870.45455  28189.28571  8733.333333   \n",
              "311          62.43       125.06  19790.69767  62491.66667  7170.422535   \n",
              "312          64.75       126.29  15738.98305  34360.00000  6783.750000   \n",
              "313          61.95       178.00  18632.07547  30043.47826  7668.493151   \n",
              "314          64.30       139.55  16448.27586  38750.00000  7000.000000   \n",
              "\n",
              "     AnomalyDetect  AnomalyPred  AnomalyType  \n",
              "0                0            0            0  \n",
              "1                0            0            0  \n",
              "2                0            0            0  \n",
              "3                1            0            1  \n",
              "4                0            0            0  \n",
              "..             ...          ...          ...  \n",
              "310              1            1            1  \n",
              "311              0            0            0  \n",
              "312              0            0            0  \n",
              "313              1            0            2  \n",
              "314              0            0            0  \n",
              "\n",
              "[315 rows x 8 columns]"
            ],
            "text/html": [
              "\n",
              "  <div id=\"df-7047cbd8-3086-49a8-b50e-e37ec99044c0\" class=\"colab-df-container\">\n",
              "    <div>\n",
              "<style scoped>\n",
              "    .dataframe tbody tr th:only-of-type {\n",
              "        vertical-align: middle;\n",
              "    }\n",
              "\n",
              "    .dataframe tbody tr th {\n",
              "        vertical-align: top;\n",
              "    }\n",
              "\n",
              "    .dataframe thead th {\n",
              "        text-align: right;\n",
              "    }\n",
              "</style>\n",
              "<table border=\"1\" class=\"dataframe\">\n",
              "  <thead>\n",
              "    <tr style=\"text-align: right;\">\n",
              "      <th></th>\n",
              "      <th>Accelerometer</th>\n",
              "      <th>Temperature</th>\n",
              "      <th>vib_x</th>\n",
              "      <th>vib_y</th>\n",
              "      <th>vib_z</th>\n",
              "      <th>AnomalyDetect</th>\n",
              "      <th>AnomalyPred</th>\n",
              "      <th>AnomalyType</th>\n",
              "    </tr>\n",
              "  </thead>\n",
              "  <tbody>\n",
              "    <tr>\n",
              "      <th>0</th>\n",
              "      <td>62.99</td>\n",
              "      <td>123.27</td>\n",
              "      <td>18400.00000</td>\n",
              "      <td>28600.00000</td>\n",
              "      <td>7678.260870</td>\n",
              "      <td>0</td>\n",
              "      <td>0</td>\n",
              "      <td>0</td>\n",
              "    </tr>\n",
              "    <tr>\n",
              "      <th>1</th>\n",
              "      <td>61.40</td>\n",
              "      <td>125.86</td>\n",
              "      <td>14647.45763</td>\n",
              "      <td>24046.42857</td>\n",
              "      <td>7596.969697</td>\n",
              "      <td>0</td>\n",
              "      <td>0</td>\n",
              "      <td>0</td>\n",
              "    </tr>\n",
              "    <tr>\n",
              "      <th>2</th>\n",
              "      <td>63.16</td>\n",
              "      <td>139.13</td>\n",
              "      <td>20102.22222</td>\n",
              "      <td>34100.00000</td>\n",
              "      <td>6585.714286</td>\n",
              "      <td>0</td>\n",
              "      <td>0</td>\n",
              "      <td>0</td>\n",
              "    </tr>\n",
              "    <tr>\n",
              "      <th>3</th>\n",
              "      <td>50.00</td>\n",
              "      <td>131.37</td>\n",
              "      <td>20645.45455</td>\n",
              "      <td>26103.44828</td>\n",
              "      <td>8655.000000</td>\n",
              "      <td>1</td>\n",
              "      <td>0</td>\n",
              "      <td>1</td>\n",
              "    </tr>\n",
              "    <tr>\n",
              "      <th>4</th>\n",
              "      <td>62.78</td>\n",
              "      <td>139.62</td>\n",
              "      <td>15868.96552</td>\n",
              "      <td>35309.52381</td>\n",
              "      <td>8607.575758</td>\n",
              "      <td>0</td>\n",
              "      <td>0</td>\n",
              "      <td>0</td>\n",
              "    </tr>\n",
              "    <tr>\n",
              "      <th>...</th>\n",
              "      <td>...</td>\n",
              "      <td>...</td>\n",
              "      <td>...</td>\n",
              "      <td>...</td>\n",
              "      <td>...</td>\n",
              "      <td>...</td>\n",
              "      <td>...</td>\n",
              "      <td>...</td>\n",
              "    </tr>\n",
              "    <tr>\n",
              "      <th>310</th>\n",
              "      <td>15.00</td>\n",
              "      <td>133.51</td>\n",
              "      <td>19870.45455</td>\n",
              "      <td>28189.28571</td>\n",
              "      <td>8733.333333</td>\n",
              "      <td>1</td>\n",
              "      <td>1</td>\n",
              "      <td>1</td>\n",
              "    </tr>\n",
              "    <tr>\n",
              "      <th>311</th>\n",
              "      <td>62.43</td>\n",
              "      <td>125.06</td>\n",
              "      <td>19790.69767</td>\n",
              "      <td>62491.66667</td>\n",
              "      <td>7170.422535</td>\n",
              "      <td>0</td>\n",
              "      <td>0</td>\n",
              "      <td>0</td>\n",
              "    </tr>\n",
              "    <tr>\n",
              "      <th>312</th>\n",
              "      <td>64.75</td>\n",
              "      <td>126.29</td>\n",
              "      <td>15738.98305</td>\n",
              "      <td>34360.00000</td>\n",
              "      <td>6783.750000</td>\n",
              "      <td>0</td>\n",
              "      <td>0</td>\n",
              "      <td>0</td>\n",
              "    </tr>\n",
              "    <tr>\n",
              "      <th>313</th>\n",
              "      <td>61.95</td>\n",
              "      <td>178.00</td>\n",
              "      <td>18632.07547</td>\n",
              "      <td>30043.47826</td>\n",
              "      <td>7668.493151</td>\n",
              "      <td>1</td>\n",
              "      <td>0</td>\n",
              "      <td>2</td>\n",
              "    </tr>\n",
              "    <tr>\n",
              "      <th>314</th>\n",
              "      <td>64.30</td>\n",
              "      <td>139.55</td>\n",
              "      <td>16448.27586</td>\n",
              "      <td>38750.00000</td>\n",
              "      <td>7000.000000</td>\n",
              "      <td>0</td>\n",
              "      <td>0</td>\n",
              "      <td>0</td>\n",
              "    </tr>\n",
              "  </tbody>\n",
              "</table>\n",
              "<p>315 rows × 8 columns</p>\n",
              "</div>\n",
              "    <div class=\"colab-df-buttons\">\n",
              "\n",
              "  <div class=\"colab-df-container\">\n",
              "    <button class=\"colab-df-convert\" onclick=\"convertToInteractive('df-7047cbd8-3086-49a8-b50e-e37ec99044c0')\"\n",
              "            title=\"Convert this dataframe to an interactive table.\"\n",
              "            style=\"display:none;\">\n",
              "\n",
              "  <svg xmlns=\"http://www.w3.org/2000/svg\" height=\"24px\" viewBox=\"0 -960 960 960\">\n",
              "    <path d=\"M120-120v-720h720v720H120Zm60-500h600v-160H180v160Zm220 220h160v-160H400v160Zm0 220h160v-160H400v160ZM180-400h160v-160H180v160Zm440 0h160v-160H620v160ZM180-180h160v-160H180v160Zm440 0h160v-160H620v160Z\"/>\n",
              "  </svg>\n",
              "    </button>\n",
              "\n",
              "  <style>\n",
              "    .colab-df-container {\n",
              "      display:flex;\n",
              "      gap: 12px;\n",
              "    }\n",
              "\n",
              "    .colab-df-convert {\n",
              "      background-color: #E8F0FE;\n",
              "      border: none;\n",
              "      border-radius: 50%;\n",
              "      cursor: pointer;\n",
              "      display: none;\n",
              "      fill: #1967D2;\n",
              "      height: 32px;\n",
              "      padding: 0 0 0 0;\n",
              "      width: 32px;\n",
              "    }\n",
              "\n",
              "    .colab-df-convert:hover {\n",
              "      background-color: #E2EBFA;\n",
              "      box-shadow: 0px 1px 2px rgba(60, 64, 67, 0.3), 0px 1px 3px 1px rgba(60, 64, 67, 0.15);\n",
              "      fill: #174EA6;\n",
              "    }\n",
              "\n",
              "    .colab-df-buttons div {\n",
              "      margin-bottom: 4px;\n",
              "    }\n",
              "\n",
              "    [theme=dark] .colab-df-convert {\n",
              "      background-color: #3B4455;\n",
              "      fill: #D2E3FC;\n",
              "    }\n",
              "\n",
              "    [theme=dark] .colab-df-convert:hover {\n",
              "      background-color: #434B5C;\n",
              "      box-shadow: 0px 1px 3px 1px rgba(0, 0, 0, 0.15);\n",
              "      filter: drop-shadow(0px 1px 2px rgba(0, 0, 0, 0.3));\n",
              "      fill: #FFFFFF;\n",
              "    }\n",
              "  </style>\n",
              "\n",
              "    <script>\n",
              "      const buttonEl =\n",
              "        document.querySelector('#df-7047cbd8-3086-49a8-b50e-e37ec99044c0 button.colab-df-convert');\n",
              "      buttonEl.style.display =\n",
              "        google.colab.kernel.accessAllowed ? 'block' : 'none';\n",
              "\n",
              "      async function convertToInteractive(key) {\n",
              "        const element = document.querySelector('#df-7047cbd8-3086-49a8-b50e-e37ec99044c0');\n",
              "        const dataTable =\n",
              "          await google.colab.kernel.invokeFunction('convertToInteractive',\n",
              "                                                    [key], {});\n",
              "        if (!dataTable) return;\n",
              "\n",
              "        const docLinkHtml = 'Like what you see? Visit the ' +\n",
              "          '<a target=\"_blank\" href=https://colab.research.google.com/notebooks/data_table.ipynb>data table notebook</a>'\n",
              "          + ' to learn more about interactive tables.';\n",
              "        element.innerHTML = '';\n",
              "        dataTable['output_type'] = 'display_data';\n",
              "        await google.colab.output.renderOutput(dataTable, element);\n",
              "        const docLink = document.createElement('div');\n",
              "        docLink.innerHTML = docLinkHtml;\n",
              "        element.appendChild(docLink);\n",
              "      }\n",
              "    </script>\n",
              "  </div>\n",
              "\n",
              "\n",
              "<div id=\"df-b50273a7-328d-4dc2-8f06-7e4b331e7a5e\">\n",
              "  <button class=\"colab-df-quickchart\" onclick=\"quickchart('df-b50273a7-328d-4dc2-8f06-7e4b331e7a5e')\"\n",
              "            title=\"Suggest charts\"\n",
              "            style=\"display:none;\">\n",
              "\n",
              "<svg xmlns=\"http://www.w3.org/2000/svg\" height=\"24px\"viewBox=\"0 0 24 24\"\n",
              "     width=\"24px\">\n",
              "    <g>\n",
              "        <path d=\"M19 3H5c-1.1 0-2 .9-2 2v14c0 1.1.9 2 2 2h14c1.1 0 2-.9 2-2V5c0-1.1-.9-2-2-2zM9 17H7v-7h2v7zm4 0h-2V7h2v10zm4 0h-2v-4h2v4z\"/>\n",
              "    </g>\n",
              "</svg>\n",
              "  </button>\n",
              "\n",
              "<style>\n",
              "  .colab-df-quickchart {\n",
              "      --bg-color: #E8F0FE;\n",
              "      --fill-color: #1967D2;\n",
              "      --hover-bg-color: #E2EBFA;\n",
              "      --hover-fill-color: #174EA6;\n",
              "      --disabled-fill-color: #AAA;\n",
              "      --disabled-bg-color: #DDD;\n",
              "  }\n",
              "\n",
              "  [theme=dark] .colab-df-quickchart {\n",
              "      --bg-color: #3B4455;\n",
              "      --fill-color: #D2E3FC;\n",
              "      --hover-bg-color: #434B5C;\n",
              "      --hover-fill-color: #FFFFFF;\n",
              "      --disabled-bg-color: #3B4455;\n",
              "      --disabled-fill-color: #666;\n",
              "  }\n",
              "\n",
              "  .colab-df-quickchart {\n",
              "    background-color: var(--bg-color);\n",
              "    border: none;\n",
              "    border-radius: 50%;\n",
              "    cursor: pointer;\n",
              "    display: none;\n",
              "    fill: var(--fill-color);\n",
              "    height: 32px;\n",
              "    padding: 0;\n",
              "    width: 32px;\n",
              "  }\n",
              "\n",
              "  .colab-df-quickchart:hover {\n",
              "    background-color: var(--hover-bg-color);\n",
              "    box-shadow: 0 1px 2px rgba(60, 64, 67, 0.3), 0 1px 3px 1px rgba(60, 64, 67, 0.15);\n",
              "    fill: var(--button-hover-fill-color);\n",
              "  }\n",
              "\n",
              "  .colab-df-quickchart-complete:disabled,\n",
              "  .colab-df-quickchart-complete:disabled:hover {\n",
              "    background-color: var(--disabled-bg-color);\n",
              "    fill: var(--disabled-fill-color);\n",
              "    box-shadow: none;\n",
              "  }\n",
              "\n",
              "  .colab-df-spinner {\n",
              "    border: 2px solid var(--fill-color);\n",
              "    border-color: transparent;\n",
              "    border-bottom-color: var(--fill-color);\n",
              "    animation:\n",
              "      spin 1s steps(1) infinite;\n",
              "  }\n",
              "\n",
              "  @keyframes spin {\n",
              "    0% {\n",
              "      border-color: transparent;\n",
              "      border-bottom-color: var(--fill-color);\n",
              "      border-left-color: var(--fill-color);\n",
              "    }\n",
              "    20% {\n",
              "      border-color: transparent;\n",
              "      border-left-color: var(--fill-color);\n",
              "      border-top-color: var(--fill-color);\n",
              "    }\n",
              "    30% {\n",
              "      border-color: transparent;\n",
              "      border-left-color: var(--fill-color);\n",
              "      border-top-color: var(--fill-color);\n",
              "      border-right-color: var(--fill-color);\n",
              "    }\n",
              "    40% {\n",
              "      border-color: transparent;\n",
              "      border-right-color: var(--fill-color);\n",
              "      border-top-color: var(--fill-color);\n",
              "    }\n",
              "    60% {\n",
              "      border-color: transparent;\n",
              "      border-right-color: var(--fill-color);\n",
              "    }\n",
              "    80% {\n",
              "      border-color: transparent;\n",
              "      border-right-color: var(--fill-color);\n",
              "      border-bottom-color: var(--fill-color);\n",
              "    }\n",
              "    90% {\n",
              "      border-color: transparent;\n",
              "      border-bottom-color: var(--fill-color);\n",
              "    }\n",
              "  }\n",
              "</style>\n",
              "\n",
              "  <script>\n",
              "    async function quickchart(key) {\n",
              "      const quickchartButtonEl =\n",
              "        document.querySelector('#' + key + ' button');\n",
              "      quickchartButtonEl.disabled = true;  // To prevent multiple clicks.\n",
              "      quickchartButtonEl.classList.add('colab-df-spinner');\n",
              "      try {\n",
              "        const charts = await google.colab.kernel.invokeFunction(\n",
              "            'suggestCharts', [key], {});\n",
              "      } catch (error) {\n",
              "        console.error('Error during call to suggestCharts:', error);\n",
              "      }\n",
              "      quickchartButtonEl.classList.remove('colab-df-spinner');\n",
              "      quickchartButtonEl.classList.add('colab-df-quickchart-complete');\n",
              "    }\n",
              "    (() => {\n",
              "      let quickchartButtonEl =\n",
              "        document.querySelector('#df-b50273a7-328d-4dc2-8f06-7e4b331e7a5e button');\n",
              "      quickchartButtonEl.style.display =\n",
              "        google.colab.kernel.accessAllowed ? 'block' : 'none';\n",
              "    })();\n",
              "  </script>\n",
              "</div>\n",
              "    </div>\n",
              "  </div>\n"
            ],
            "application/vnd.google.colaboratory.intrinsic+json": {
              "type": "dataframe",
              "variable_name": "data",
              "summary": "{\n  \"name\": \"data\",\n  \"rows\": 315,\n  \"fields\": [\n    {\n      \"column\": \"Accelerometer\",\n      \"properties\": {\n        \"dtype\": \"number\",\n        \"std\": 6.136601957687934,\n        \"min\": 11.0,\n        \"max\": 65.0,\n        \"num_unique_values\": 221,\n        \"samples\": [\n          60.43,\n          63.11,\n          64.17\n        ],\n        \"semantic_type\": \"\",\n        \"description\": \"\"\n      }\n    },\n    {\n      \"column\": \"Temperature\",\n      \"properties\": {\n        \"dtype\": \"number\",\n        \"std\": 9.017906752901355,\n        \"min\": 120.15,\n        \"max\": 201.0,\n        \"num_unique_values\": 275,\n        \"samples\": [\n          130.15,\n          136.75,\n          124.14\n        ],\n        \"semantic_type\": \"\",\n        \"description\": \"\"\n      }\n    },\n    {\n      \"column\": \"vib_x\",\n      \"properties\": {\n        \"dtype\": \"number\",\n        \"std\": 4491.338074255878,\n        \"min\": 13827.58621,\n        \"max\": 55000.0,\n        \"num_unique_values\": 299,\n        \"samples\": [\n          18143.47826,\n          17640.0,\n          22700.0\n        ],\n        \"semantic_type\": \"\",\n        \"description\": \"\"\n      }\n    },\n    {\n      \"column\": \"vib_y\",\n      \"properties\": {\n        \"dtype\": \"number\",\n        \"std\": 31436.388443618675,\n        \"min\": 15918.75,\n        \"max\": 410000.0,\n        \"num_unique_values\": 299,\n        \"samples\": [\n          30878.26087,\n          47000.0,\n          24556.0\n        ],\n        \"semantic_type\": \"\",\n        \"description\": \"\"\n      }\n    },\n    {\n      \"column\": \"vib_z\",\n      \"properties\": {\n        \"dtype\": \"number\",\n        \"std\": 1610.9903989364527,\n        \"min\": 5710.0,\n        \"max\": 21354.16667,\n        \"num_unique_values\": 297,\n        \"samples\": [\n          7804.054054,\n          9237.5,\n          7868.656716\n        ],\n        \"semantic_type\": \"\",\n        \"description\": \"\"\n      }\n    },\n    {\n      \"column\": \"AnomalyDetect\",\n      \"properties\": {\n        \"dtype\": \"number\",\n        \"std\": 0,\n        \"min\": 0,\n        \"max\": 1,\n        \"num_unique_values\": 2,\n        \"samples\": [\n          1,\n          0\n        ],\n        \"semantic_type\": \"\",\n        \"description\": \"\"\n      }\n    },\n    {\n      \"column\": \"AnomalyPred\",\n      \"properties\": {\n        \"dtype\": \"number\",\n        \"std\": 0,\n        \"min\": 0,\n        \"max\": 1,\n        \"num_unique_values\": 2,\n        \"samples\": [\n          1,\n          0\n        ],\n        \"semantic_type\": \"\",\n        \"description\": \"\"\n      }\n    },\n    {\n      \"column\": \"AnomalyType\",\n      \"properties\": {\n        \"dtype\": \"number\",\n        \"std\": 1,\n        \"min\": 0,\n        \"max\": 5,\n        \"num_unique_values\": 6,\n        \"samples\": [\n          0,\n          1\n        ],\n        \"semantic_type\": \"\",\n        \"description\": \"\"\n      }\n    }\n  ]\n}"
            }
          },
          "metadata": {},
          "execution_count": 18
        }
      ],
      "source": [
        "data"
      ]
    },
    {
      "cell_type": "code",
      "execution_count": null,
      "metadata": {
        "colab": {
          "base_uri": "https://localhost:8080/"
        },
        "id": "WJEnNcrtPFzd",
        "outputId": "163a6e88-f84f-4e49-8537-fba5aa265af5"
      },
      "outputs": [
        {
          "output_type": "execute_result",
          "data": {
            "text/plain": [
              "array([1.        , 0.66666667, 1.        , 0.66666667, 0.66666667,\n",
              "       0.66666667, 0.        , 1.        , 1.        , 0.66666667,\n",
              "       1.        , 1.        , 1.        , 1.        , 1.        ,\n",
              "       0.66666667, 1.        , 1.        , 0.66666667, 0.33333333,\n",
              "       1.        , 1.        , 1.        , 1.        , 0.33333333,\n",
              "       1.        , 1.        , 1.        , 1.        , 0.66666667,\n",
              "       1.        , 1.        , 1.        , 1.        , 0.33333333,\n",
              "       1.        , 1.        , 1.        , 1.        , 1.        ,\n",
              "       1.        , 1.        , 1.        , 1.        , 1.        ,\n",
              "       0.        , 1.        , 1.        , 1.        , 0.66666667,\n",
              "       1.        , 0.66666667, 1.        , 0.66666667, 1.        ,\n",
              "       0.66666667, 1.        , 1.        , 1.        , 0.66666667,\n",
              "       1.        , 1.        , 0.66666667, 0.66666667, 0.66666667,\n",
              "       1.        , 0.        , 1.        , 0.66666667, 1.        ,\n",
              "       1.        , 1.        , 1.        , 1.        , 1.        ,\n",
              "       1.        , 1.        , 1.        , 0.        , 1.        ,\n",
              "       1.        , 0.66666667, 0.66666667, 1.        , 1.        ,\n",
              "       1.        , 1.        , 1.        , 1.        , 1.        ,\n",
              "       1.        , 1.        , 0.66666667, 1.        , 1.        ,\n",
              "       1.        , 1.        , 1.        , 0.66666667, 0.66666667,\n",
              "       1.        , 1.        , 1.        , 1.        , 1.        ,\n",
              "       0.66666667, 1.        , 1.        , 1.        , 0.        ,\n",
              "       1.        , 1.        , 1.        , 1.        , 1.        ,\n",
              "       1.        , 1.        , 1.        , 1.        , 1.        ,\n",
              "       1.        , 1.        , 1.        , 0.66666667, 1.        ,\n",
              "       0.66666667, 1.        , 1.        , 1.        , 0.        ,\n",
              "       1.        , 1.        , 1.        , 1.        , 1.        ,\n",
              "       0.66666667, 1.        , 0.66666667, 1.        , 1.        ,\n",
              "       0.66666667, 1.        , 1.        , 1.        , 1.        ,\n",
              "       1.        , 1.        , 0.        , 1.        , 1.        ,\n",
              "       0.66666667, 0.66666667, 1.        , 1.        , 1.        ,\n",
              "       0.66666667, 1.        , 1.        , 1.        , 0.66666667,\n",
              "       1.        , 1.        , 0.66666667, 0.66666667, 0.66666667,\n",
              "       1.        , 1.        , 1.        , 0.66666667, 1.        ,\n",
              "       1.        , 0.66666667, 0.66666667, 1.        , 1.        ,\n",
              "       0.66666667, 0.33333333, 1.        , 1.        , 1.        ,\n",
              "       1.        , 1.        , 1.        , 1.        , 0.66666667,\n",
              "       1.        , 1.        , 1.        , 1.        , 0.66666667,\n",
              "       0.66666667, 0.        , 0.66666667, 1.        , 1.        ,\n",
              "       1.        , 0.66666667, 1.        , 0.66666667, 1.        ,\n",
              "       1.        , 1.        , 1.        , 1.        , 1.        ,\n",
              "       0.66666667, 0.66666667, 1.        , 1.        , 0.66666667,\n",
              "       0.66666667, 1.        , 0.66666667, 1.        , 0.66666667,\n",
              "       0.66666667, 1.        , 1.        , 1.        , 0.66666667,\n",
              "       0.66666667, 0.66666667, 1.        , 1.        , 0.33333333,\n",
              "       0.33333333, 1.        , 1.        , 1.        , 1.        ,\n",
              "       0.66666667, 1.        , 0.66666667, 0.66666667, 0.66666667,\n",
              "       0.33333333, 0.66666667, 1.        , 1.        , 0.33333333,\n",
              "       1.        , 0.33333333, 0.66666667, 1.        , 1.        ,\n",
              "       0.66666667, 1.        , 0.66666667, 1.        , 1.        ,\n",
              "       0.66666667, 1.        , 1.        , 1.        , 1.        ,\n",
              "       0.66666667, 1.        , 1.        , 1.        , 1.        ,\n",
              "       0.        , 1.        , 0.66666667, 1.        , 0.33333333,\n",
              "       0.66666667, 0.66666667, 1.        , 1.        , 0.66666667,\n",
              "       1.        , 1.        , 1.        , 0.66666667, 0.66666667,\n",
              "       1.        , 0.        , 1.        , 1.        , 1.        ,\n",
              "       0.33333333, 1.        , 0.66666667, 1.        , 0.66666667,\n",
              "       1.        , 1.        , 1.        , 1.        , 1.        ,\n",
              "       1.        , 1.        , 1.        , 1.        , 1.        ,\n",
              "       1.        , 0.        , 1.        , 1.        , 1.        ,\n",
              "       0.66666667, 0.66666667, 0.66666667, 0.33333333, 1.        ,\n",
              "       0.66666667, 1.        , 0.66666667, 0.66666667, 0.66666667,\n",
              "       0.33333333, 0.66666667, 1.        , 0.66666667, 1.        ])"
            ]
          },
          "metadata": {},
          "execution_count": 19
        }
      ],
      "source": [
        "knn.predict_proba(x_train)[:,0]"
      ]
    },
    {
      "cell_type": "code",
      "execution_count": null,
      "metadata": {
        "colab": {
          "base_uri": "https://localhost:8080/"
        },
        "id": "PKiQmXFWPQBS",
        "outputId": "056a5cf0-6b16-49e3-df0a-1674f8089df6"
      },
      "outputs": [
        {
          "output_type": "stream",
          "name": "stdout",
          "text": [
            "Model accuracy score: 0.9016\n"
          ]
        }
      ],
      "source": [
        "from sklearn.metrics import accuracy_score\n",
        "print('Model accuracy score: {0:0.4f}'. format(accuracy_score(y_train, y_pred)))"
      ]
    },
    {
      "cell_type": "code",
      "execution_count": null,
      "metadata": {
        "colab": {
          "base_uri": "https://localhost:8080/"
        },
        "id": "mWzP6jNYPj7t",
        "outputId": "c9ba7b63-92fd-4964-8b04-cd7024946c85"
      },
      "outputs": [
        {
          "output_type": "stream",
          "name": "stdout",
          "text": [
            "Confusion matrix\n",
            "\n",
            " [[262   2]\n",
            " [ 29  22]]\n",
            "\n",
            "True Positives(TP) =  262\n",
            "\n",
            "True Negatives(TN) =  22\n",
            "\n",
            "False Positives(FP) =  2\n",
            "\n",
            "False Negatives(FN) =  29\n"
          ]
        }
      ],
      "source": [
        "from sklearn.metrics import confusion_matrix\n",
        "\n",
        "cm = confusion_matrix(y_train, y_pred)\n",
        "\n",
        "print('Confusion matrix\\n\\n', cm)\n",
        "TP = cm[0,0]\n",
        "print('\\nTrue Positives(TP) = ', TP)\n",
        "TN = cm[1,1]\n",
        "print('\\nTrue Negatives(TN) = ', TN)\n",
        "FP = cm[0,1]\n",
        "print('\\nFalse Positives(FP) = ', FP)\n",
        "FN = cm[1,0]\n",
        "print('\\nFalse Negatives(FN) = ', FN)"
      ]
    },
    {
      "cell_type": "code",
      "execution_count": null,
      "metadata": {
        "colab": {
          "base_uri": "https://localhost:8080/",
          "height": 385
        },
        "id": "g0dqpU6qQAEZ",
        "outputId": "25dbc4bc-727d-4799-9cc0-0310a1b2055c"
      },
      "outputs": [
        {
          "output_type": "execute_result",
          "data": {
            "text/plain": [
              "<Axes: >"
            ]
          },
          "metadata": {},
          "execution_count": 22
        },
        {
          "output_type": "display_data",
          "data": {
            "text/plain": [
              "<Figure size 600x400 with 2 Axes>"
            ],
            "image/png": "[encoded data removed]"
          },
          "metadata": {}
        }
      ],
      "source": [
        "plt.figure(figsize=(6,4))\n",
        "\n",
        "cm_matrix = pd.DataFrame(data=cm, columns=['Actual Positive:1', 'Actual Negative:0'],\n",
        "                                 index=['Predict Positive:1', 'Predict Negative:0'])\n",
        "\n",
        "sns.heatmap(cm_matrix, annot=True, fmt='d', cmap='YlGnBu')"
      ]
    },
    {
      "cell_type": "code",
      "execution_count": null,
      "metadata": {
        "colab": {
          "base_uri": "https://localhost:8080/"
        },
        "id": "HWPfo-o9QK7l",
        "outputId": "5f413a44-c86b-4d13-9708-f85fbb6d90c2"
      },
      "outputs": [
        {
          "output_type": "stream",
          "name": "stdout",
          "text": [
            "Classification error : 0.0984\n"
          ]
        }
      ],
      "source": [
        "classification_error = (FP + FN) / float(TP + TN + FP + FN)\n",
        "print('Classification error : {0:0.4f}'.format(classification_error))"
      ]
    },
    {
      "cell_type": "code",
      "execution_count": null,
      "metadata": {
        "colab": {
          "base_uri": "https://localhost:8080/"
        },
        "id": "UFoqws78QmIk",
        "outputId": "78f43031-8816-49d9-8efa-0e8c974b6951"
      },
      "outputs": [
        {
          "output_type": "stream",
          "name": "stdout",
          "text": [
            "Precision : 0.9924\n"
          ]
        }
      ],
      "source": [
        "precision = TP / float(TP + FP)\n",
        "print('Precision : {0:0.4f}'.format(precision))"
      ]
    },
    {
      "cell_type": "code",
      "execution_count": null,
      "metadata": {
        "id": "0EMon2FSQna7"
      },
      "outputs": [],
      "source": [
        "recall = TP / float(TP + FN)\n",
        "print('Recall or Sensitivity : {0:0.4f}'.format(recall))"
      ]
    },
    {
      "cell_type": "markdown",
      "source": [
        "# Making a linear Regression model for predictin of maintainence"
      ],
      "metadata": {
        "id": "uVrkFVnu52mn"
      }
    },
    {
      "cell_type": "code",
      "source": [
        "import pandas\n",
        "from sklearn import linear_model"
      ],
      "metadata": {
        "id": "MhCRFeRD6Dqu"
      },
      "execution_count": null,
      "outputs": []
    },
    {
      "cell_type": "code",
      "source": [
        "X = data.iloc[:,0:5]\n",
        "y = data.iloc[:,7]"
      ],
      "metadata": {
        "id": "Ao9EVakX6DuP"
      },
      "execution_count": null,
      "outputs": []
    },
    {
      "cell_type": "code",
      "source": [
        "regr = linear_model.LinearRegression()\n",
        "regr.fit(X, y)"
      ],
      "metadata": {
        "id": "YZz9HSh08EEc"
      },
      "execution_count": null,
      "outputs": []
    },
    {
      "cell_type": "code",
      "source": [
        "y_pred_linreg = regr.predict(X)\n",
        "y_pred_linreg"
      ],
      "metadata": {
        "id": "sTM4tFP989HN"
      },
      "execution_count": null,
      "outputs": []
    },
    {
      "cell_type": "code",
      "source": [
        "plt.scatter(y, y_pred_linreg);\n",
        "plt.xlabel('Actual');\n",
        "plt.ylabel('Predicted');"
      ],
      "metadata": {
        "id": "9R84EUve83Nq"
      },
      "execution_count": null,
      "outputs": []
    },
    {
      "cell_type": "code",
      "source": [
        "sns.regplot(x=y, y=y_pred_linreg, ci=None, color ='red');"
      ],
      "metadata": {
        "id": "wxGucrKZ-B5U"
      },
      "execution_count": null,
      "outputs": []
    },
    {
      "cell_type": "markdown",
      "source": [
        "# Taking the value using MQTT"
      ],
      "metadata": {
        "id": "R2Aunxrj8UJO"
      }
    },
    {
      "cell_type": "code",
      "source": [
        "!sudo pip install paho-mqtt\n",
        "!sudo apt-get install python-dev"
      ],
      "metadata": {
        "id": "vZqx5P2O-qth"
      },
      "execution_count": null,
      "outputs": []
    },
    {
      "cell_type": "code",
      "source": [
        "import os\n",
        "import time\n",
        "import sys\n",
        "import paho.mqtt.client as mqtt\n",
        "import json\n",
        "import random"
      ],
      "metadata": {
        "id": "np6aCvJn92_l"
      },
      "execution_count": null,
      "outputs": []
    },
    {
      "cell_type": "code",
      "source": [
        "def on_connect(client, userdata, flags, rc):\n",
        "    print('CONNACK received with code %d.' % (rc))"
      ],
      "metadata": {
        "id": "cEK5p8A78TOl"
      },
      "execution_count": null,
      "outputs": []
    },
    {
      "cell_type": "code",
      "source": [
        "import paho"
      ],
      "metadata": {
        "id": "icGRwgYyAIZ-"
      },
      "execution_count": null,
      "outputs": []
    },
    {
      "cell_type": "code",
      "source": [
        "client = mqtt.Client()\n",
        "client.on_connect = on_connect\n",
        "client.connect('broker.hivemq.com', 1883)"
      ],
      "metadata": {
        "id": "WboK3uFpAA9e"
      },
      "execution_count": null,
      "outputs": []
    },
    {
      "cell_type": "code",
      "source": [
        "mqtt.Client(client_id='1', clean_session=True, userdata=None, protocol=mqtt.MQTTv31)"
      ],
      "metadata": {
        "id": "m2MSEh4WABCv"
      },
      "execution_count": null,
      "outputs": []
    },
    {
      "cell_type": "code",
      "source": [
        "msg = None"
      ],
      "metadata": {
        "id": "BENxP7-aNtr7"
      },
      "execution_count": null,
      "outputs": []
    },
    {
      "cell_type": "code",
      "source": [
        "def on_publish(client, userdata, mid):\n",
        "    print(\"mid: \"+str(mid))"
      ],
      "metadata": {
        "id": "CawwosbnABGP"
      },
      "execution_count": null,
      "outputs": []
    },
    {
      "cell_type": "code",
      "source": [
        "def run():\n",
        "    client = connect_mqtt()\n",
        "    subscribe(client)\n",
        "    client.loop_forever()"
      ],
      "metadata": {
        "id": "oQbu1q_TKseq"
      },
      "execution_count": null,
      "outputs": []
    },
    {
      "cell_type": "code",
      "source": [
        "client = mqtt.Client()\n",
        "client.on_publish = on_publish\n",
        "client.connect('broker.mqttdashboard.com', 1883)\n",
        "client.loop_start()"
      ],
      "metadata": {
        "id": "XYOlhezuABKT"
      },
      "execution_count": null,
      "outputs": []
    },
    {
      "cell_type": "code",
      "source": [
        "def on_message(client, userdata, message):\n",
        "    print(\"received message: \" ,str(message.payload.decode(\"utf-8\")))"
      ],
      "metadata": {
        "id": "BN0VYqUl-wJl"
      },
      "execution_count": null,
      "outputs": []
    },
    {
      "cell_type": "code",
      "source": [
        "def subscribe(client):\n",
        "    def on_message(client, userdata, msg):\n",
        "        print(f\"Received `{msg.payload.decode()}` from `{msg.topic}` topic\")"
      ],
      "metadata": {
        "id": "ZDpcRWczJhf7"
      },
      "execution_count": null,
      "outputs": []
    },
    {
      "cell_type": "code",
      "source": [
        "def connect_mqtt() -> client:\n",
        "    def on_connect(client, userdata, flags, rc):\n",
        "        if rc == 0:\n",
        "            print(\"Connected to MQTT Broker!\")\n",
        "        else:\n",
        "            print(\"Failed to connect, return code %d\\n\", rc)"
      ],
      "metadata": {
        "id": "W98laQT8KRnN"
      },
      "execution_count": null,
      "outputs": []
    },
    {
      "cell_type": "code",
      "source": [
        "topic = \"Machine\""
      ],
      "metadata": {
        "id": "BOG5RE-FJ8fG"
      },
      "execution_count": null,
      "outputs": []
    },
    {
      "cell_type": "code",
      "source": [
        "client.subscribe(topic)\n",
        "client.on_message = on_message"
      ],
      "metadata": {
        "id": "tp8CbeWRJszz"
      },
      "execution_count": null,
      "outputs": []
    },
    {
      "cell_type": "code",
      "source": [
        "iterations = 0\n",
        "while True:\n",
        "    if msg is not None and hasattr(msg, 'payload'):\n",
        "        characters = [chr(ascii) for ascii in msg.payload] # Convert ASCII to char\n",
        "        chars_joined = ''.join(characters) # Join chars to a string\n",
        "        splitted = chars_joined.split(\",\")\n",
        "        acc = splitted[0]\n",
        "        temp = splitted[1]\n",
        "        freq_x = splitted[2]\n",
        "        a_x = splitted[3]\n",
        "        freq_y = splitted[4]\n",
        "        a_y = splitted[5]\n",
        "        freq_z = splitted[6]\n",
        "        a_z = splitted[7]\n",
        "    else:\n",
        "        print(\"msg is None or does not have a payload attribute.\")\n",
        "        continue\n",
        "\n",
        "    iterations += 1\n",
        "    if iterations >= 10: # limit the number of iterations to 10\n",
        "        break\n",
        "\n",
        "    time.sleep(30)"
      ],
      "metadata": {
        "id": "d778eEeg-Zm7"
      },
      "execution_count": null,
      "outputs": []
    },
    {
      "cell_type": "code",
      "source": [
        "vib_x = freq_x/a_x\n",
        "vib_y = freq_y/a_y\n",
        "vib_z = freq_z/a_z"
      ],
      "metadata": {
        "id": "PGxJ02M1ABOn"
      },
      "execution_count": null,
      "outputs": []
    },
    {
      "cell_type": "markdown",
      "metadata": {
        "id": "WY1CUcgS8Ahb"
      },
      "source": [
        "# Testing data"
      ]
    },
    {
      "cell_type": "code",
      "source": [
        "import random"
      ],
      "metadata": {
        "id": "wveEoVBuOVg4"
      },
      "execution_count": null,
      "outputs": []
    },
    {
      "cell_type": "code",
      "source": [
        "acc1 = 40+(random.random()*35)\n",
        "temp1 = 150+(random.random()*25)\n",
        "freq_x1 = 80+(random.random()*25)\n",
        "a_x1 = random.random()*0.002\n",
        "freq_y1 = 60+(random.random()*10)\n",
        "a_y1 = random.random()*0.001\n",
        "freq_z1 = 50+(random.random()*10)\n",
        "a_z1 = random.random()*0.006"
      ],
      "metadata": {
        "id": "GiooXIhbO1fv"
      },
      "execution_count": null,
      "outputs": []
    },
    {
      "cell_type": "code",
      "source": [
        "vib_x1 = freq_x/a_x\n",
        "vib_y1 = freq_y/a_y\n",
        "vib_z1 = freq_z/a_z"
      ],
      "metadata": {
        "id": "sfqKYIQ9P3Gf"
      },
      "execution_count": null,
      "outputs": []
    },
    {
      "cell_type": "code",
      "source": [
        "acc2 = 40+(random.random()*35)\n",
        "temp2 = 150+(random.random()*25)\n",
        "freq_x2 = 80+(random.random()*25)\n",
        "a_x2 = random.random()*0.002\n",
        "freq_y2 = 60+(random.random()*10)\n",
        "a_y2 = random.random()*0.001\n",
        "freq_z2 = 50+(random.random()*10)\n",
        "a_z2 = random.random()*0.006"
      ],
      "metadata": {
        "id": "4cwCBgSCRZYJ"
      },
      "execution_count": null,
      "outputs": []
    },
    {
      "cell_type": "code",
      "source": [
        "vib_x2 = freq_x/a_x\n",
        "vib_y2 = freq_y/a_y\n",
        "vib_z2 = freq_z/a_z"
      ],
      "metadata": {
        "id": "ETAQSRETRbj-"
      },
      "execution_count": null,
      "outputs": []
    },
    {
      "cell_type": "code",
      "source": [
        "x_test = [[acc1, temp1, vib_x1, vib_y1, vib_z1], [acc2, temp2, vib_x2, vib_y2, vib_z2]]\n",
        "x_test"
      ],
      "metadata": {
        "id": "m73ApXdTQKi2"
      },
      "execution_count": null,
      "outputs": []
    },
    {
      "cell_type": "code",
      "source": [
        "y_pred_test = knn.predict(x_test)"
      ],
      "metadata": {
        "id": "Ukl8XZ-bQY8G"
      },
      "execution_count": null,
      "outputs": []
    },
    {
      "cell_type": "code",
      "source": [
        "y_pred_test"
      ],
      "metadata": {
        "id": "ipFDfIMLQnvp"
      },
      "execution_count": null,
      "outputs": []
    },
    {
      "cell_type": "markdown",
      "source": [
        "# Sending an alert"
      ],
      "metadata": {
        "id": "gd1YJu_zSCIN"
      }
    },
    {
      "cell_type": "code",
      "source": [
        "pip install telebot"
      ],
      "metadata": {
        "id": "1XGo4ObdRz2w"
      },
      "execution_count": null,
      "outputs": []
    },
    {
      "cell_type": "code",
      "source": [
        "pip install telebot"
      ],
      "metadata": {
        "id": "B8fqH_BESZME"
      },
      "execution_count": null,
      "outputs": []
    },
    {
      "cell_type": "code",
      "source": [
        "pip install telethon"
      ],
      "metadata": {
        "id": "C_KYk1UWSp9F"
      },
      "execution_count": null,
      "outputs": []
    },
    {
      "cell_type": "code",
      "source": [
        "import telebot\n",
        "from telethon.sync import TelegramClient\n",
        "from telethon.tl.types import InputPeerUser, InputPeerChannel\n",
        "from telethon import TelegramClient, sync, events"
      ],
      "metadata": {
        "id": "qa4U_NylSbzf"
      },
      "execution_count": null,
      "outputs": []
    },
    {
      "cell_type": "code",
      "source": [
        "api_id = '24804615'\n",
        "api_hash = 'd5c6f0ad6aaa15006851468f6a064eda'\n",
        "token = '5627588564:AAGrYQQJMky9q3XbMRg68JZ08ZIvuFboQT4'\n",
        "message = \"Working...\""
      ],
      "metadata": {
        "id": "ts8_dGV-Senr"
      },
      "execution_count": null,
      "outputs": []
    },
    {
      "cell_type": "code",
      "source": [
        "phone = '+919825629359'\n",
        "\n",
        "client = TelegramClient('session', api_id, api_hash)\n",
        "\n",
        "client.connect()"
      ],
      "metadata": {
        "id": "y2MWZZXiTmIz"
      },
      "execution_count": null,
      "outputs": []
    },
    {
      "cell_type": "code",
      "source": [
        "import urllib.request"
      ],
      "metadata": {
        "id": "GxbWllEkU2r9"
      },
      "execution_count": null,
      "outputs": []
    },
    {
      "cell_type": "code",
      "source": [
        "webUrl = urllib.request.urlopen('https://api.telegram.org/bot5627588564:AAGrYQQJMky9q3XbMRg68JZ08ZIvuFboQT4/sendMessage?chat_id=1839649176&text=MaintainenceRequired')"
      ],
      "metadata": {
        "id": "9FYwgxgkXKun"
      },
      "execution_count": null,
      "outputs": []
    }
  ],
  "metadata": {
    "colab": {
      "provenance": [],
      "include_colab_link": true
    },
    "kernelspec": {
      "display_name": "Python 3",
      "name": "python3"
    },
    "language_info": {
      "name": "python"
    }
  },
  "nbformat": 4,
  "nbformat_minor": 0
}